{
 "cells": [
  {
   "cell_type": "code",
   "execution_count": 3,
   "id": "7b31256f",
   "metadata": {
    "slideshow": {
     "slide_type": "skip"
    }
   },
   "outputs": [
    {
     "name": "stdout",
     "output_type": "stream",
     "text": [
      "[NbConvertApp] Converting notebook WobIR_Presentation_Marx.ipynb to slides\n",
      "[NbConvertApp] Writing 291544 bytes to WobIR_Presentation_Marx.slides.html\n",
      "[NbConvertApp] Redirecting reveal.js requests to https://cdnjs.cloudflare.com/ajax/libs/reveal.js/3.5.0\n",
      "Serving your slides at http://127.0.0.1:8000/WobIR_Presentation_Marx.slides.html\n",
      "Use Control-C to stop this server\n",
      "WARNING:tornado.access:404 GET /custom.css (127.0.0.1) 1.14ms\n",
      "^C\n",
      "\n",
      "Interrupted\n"
     ]
    }
   ],
   "source": [
    "!jupyter nbconvert WobIR_Presentation_Marx.ipynb --to slides --post serve"
   ]
  },
  {
   "cell_type": "markdown",
   "id": "8635c518",
   "metadata": {
    "slideshow": {
     "slide_type": "skip"
    }
   },
   "source": [
    "# Agenda first get together 2022-03-08\n",
    "\n",
    "1. Quick round so we have faces with the names.\n",
    "2. Introduction Maarten\n",
    "3. Everyone introduces his (we have no hers) thesis topic in  at most 5 slides in at most 5 minutes.\n",
    "4. Plan:\n",
    "    * order of doing things\n",
    "    * coordination\n",
    "    * data/code sharing\n",
    "5. Whatever else you think of\n"
   ]
  },
  {
   "cell_type": "markdown",
   "id": "7fe61dec",
   "metadata": {
    "slideshow": {
     "slide_type": "slide"
    }
   },
   "source": [
    "# Wob IR\n",
    "\n",
    "## IR on (Dutch) Freedom of Information Act documents\n",
    "\n",
    "### Who\n",
    "\n",
    "* Maarten Marx, \n",
    "* Jaap Kamps, \n",
    "* team of MSc Data Science and BSc Information Science thesis students"
   ]
  },
  {
   "cell_type": "markdown",
   "id": "12e94d50",
   "metadata": {
    "slideshow": {
     "slide_type": "slide"
    }
   },
   "source": [
    "# Contents\n",
    "\n",
    "1. What is this Freedom of Information Act?\n",
    "2. What is the IR side of it?\n",
    "3. What are the IR issues of this corpus?\n",
    "4. Our plan for changing the world.\n",
    "5. Tasks, results."
   ]
  },
  {
   "cell_type": "markdown",
   "id": "877a7b37",
   "metadata": {
    "slideshow": {
     "slide_type": "slide"
    }
   },
   "source": [
    "# Freedom of Information Act (WOB)\n",
    "\n",
    "> is a federal freedom of information law that requires the full or partial disclosure of previously unreleased information and documents controlled by the United States government upon request. [source: Wikipedia](https://en.wikipedia.org/wiki/Freedom_of_Information_Act_(United_States))"
   ]
  },
  {
   "cell_type": "markdown",
   "id": "222f815e",
   "metadata": {
    "slideshow": {
     "slide_type": "fragment"
    }
   },
   "source": [
    "## From an IR perspective: total recall task\n",
    "\n",
    "### Query\n",
    "* Citizens can ask (=*query*) for disclosure of \"all\" documents related (=*relevant*) to a topic. \n",
    "\n",
    "### Response\n",
    "\n",
    "1. A *decision*\n",
    "2. An \"inventory list\" of *all* relevant documents\n",
    "3. The (parts of the) documents that the government releases."
   ]
  },
  {
   "cell_type": "markdown",
   "id": "fdeba9a2",
   "metadata": {
    "slideshow": {
     "slide_type": "slide"
    }
   },
   "source": [
    "# What is the IR side of it?\n",
    "\n",
    "### 3 IR problems"
   ]
  },
  {
   "cell_type": "markdown",
   "id": "5fb12900",
   "metadata": {
    "slideshow": {
     "slide_type": "slide"
    }
   },
   "source": [
    "#### At government \n",
    "\n",
    "* (Total recall problem): finding all documents relevant to the request\n",
    "    * because of highly distributed corpus very difficult\n",
    "    * currently we do not work on this problem"
   ]
  },
  {
   "cell_type": "markdown",
   "id": "0eab73a6",
   "metadata": {
    "slideshow": {
     "slide_type": "slide"
    }
   },
   "source": [
    "#### At requester side\n",
    "\n",
    "* Satisfying your information need based on the released documents.\n",
    "    * seriously difficult: often hundreds of pages"
   ]
  },
  {
   "cell_type": "markdown",
   "id": "ae61f64d",
   "metadata": {
    "slideshow": {
     "slide_type": "slide"
    }
   },
   "source": [
    "#### At society side\n",
    "\n",
    "* Being able to retrieve information from **all released documents** (all WOBs combined)\n",
    "    * currently basically impossible"
   ]
  },
  {
   "cell_type": "markdown",
   "id": "96e8532b",
   "metadata": {
    "slideshow": {
     "slide_type": "slide"
    }
   },
   "source": [
    "# What are the IR issues of this corpus?\n",
    "\n",
    "The Dutch  \"wob corpora\" fail to satisfy the most basic assumptions underlying IR.\n"
   ]
  },
  {
   "cell_type": "markdown",
   "id": "f46ff895",
   "metadata": {
    "slideshow": {
     "slide_type": "fragment"
    }
   },
   "source": [
    "* \"documents\" contain no words"
   ]
  },
  {
   "cell_type": "markdown",
   "id": "620805d8",
   "metadata": {
    "slideshow": {
     "slide_type": "fragment"
    }
   },
   "source": [
    "* there are no documents, just a stream of (often empty) pages"
   ]
  },
  {
   "cell_type": "markdown",
   "id": "9d038c2e",
   "metadata": {
    "slideshow": {
     "slide_type": "fragment"
    }
   },
   "source": [
    "* there is (almost) no metadata for the \"documents\""
   ]
  },
  {
   "cell_type": "markdown",
   "id": "bcd674dc",
   "metadata": {
    "slideshow": {
     "slide_type": "fragment"
    }
   },
   "source": [
    "## To summarize: corpus is not machine readable"
   ]
  },
  {
   "cell_type": "markdown",
   "id": "e36bc847",
   "metadata": {
    "slideshow": {
     "slide_type": "slide"
    }
   },
   "source": [
    "# Huh?\n",
    "\n",
    "The most common manner to distribute the released set of documents for a WOB request is as \n",
    "\n",
    "* a single (large) PDF\n",
    "* created by scanning a (huge) pile of printed documents\n",
    "    * if you are lucky, with the OCR functionality switched on.\n",
    "    * yes indeed, on the printer....\n",
    "    "
   ]
  },
  {
   "cell_type": "markdown",
   "id": "849ca402",
   "metadata": {
    "slideshow": {
     "slide_type": "slide"
    }
   },
   "source": [
    "![](printer.png)    "
   ]
  },
  {
   "cell_type": "markdown",
   "id": "43bd8b1e",
   "metadata": {
    "slideshow": {
     "slide_type": "slide"
    }
   },
   "source": [
    "# Three main  \"preparation\" tasks\n",
    "\n",
    "1. Obtain the (not hidden) words: \n",
    "    * OCR\n",
    "2. Obtain real documents: \n",
    "    * \"document splitting\"\n",
    "3. Obtain basic metadata for each document\n",
    "    * type\n",
    "    * dates\n",
    "    * actors involved\n",
    "    * ..."
   ]
  },
  {
   "cell_type": "markdown",
   "id": "9cb76008",
   "metadata": {
    "slideshow": {
     "slide_type": "slide"
    }
   },
   "source": [
    "# How we address these tasks\n",
    "\n",
    "## OCR\n",
    "\n",
    "* Use `tesseract`, with optimal (page-dependent) settings\n",
    "\n",
    "## Document splitting\n",
    "\n",
    "* Thank God, we found some WOBs distributed as zip files $\\Rightarrow$ gold standard labelled corpus\n",
    "* ML problem\n",
    "    * clustering or classification\n",
    "* all kind of features to try out (semantic, syntactic, layout, fonts, headers, footers,...)\n",
    "\n",
    "## Metadata extraction\n",
    "\n",
    "* Knowledge extraction task, using NER and NE linking techniques\n",
    "    * Also relation/role extraction (e.g. *creator* of a document, *recipient*,...)"
   ]
  },
  {
   "cell_type": "markdown",
   "id": "4132d67e",
   "metadata": {
    "slideshow": {
     "slide_type": "slide"
    }
   },
   "source": [
    "# Reverse engineering: not nice\n",
    "\n",
    "1. We want to make great IR systems.\n",
    "2. But we are *reverse engineering* what was nicely available at the source.\n",
    "3. Pretty frustrating...."
   ]
  },
  {
   "cell_type": "markdown",
   "id": "5bed0db6",
   "metadata": {
    "slideshow": {
     "slide_type": "slide"
    }
   },
   "source": [
    "# Our way in which we  hope to  change this \n",
    "\n",
    "####  Wikipedia/DBPedia/Wikidata inspired way:\n",
    "\n",
    "1. Show what **fantastic things** one can do once data is truely **machine readable**.\n",
    "2. Make it **easy** to create truely machine readable data.\n",
    "\n",
    "#### Specially for WOB documents\n",
    "\n",
    "* Show that *hiding information* does not really work $\\Rightarrow$ we can unhide it anyway\n",
    "\n",
    "##### From infobox to relational DB\n",
    "\n",
    "* Used to be a big mess\n",
    "* Now much more *standardized* "
   ]
  },
  {
   "cell_type": "markdown",
   "id": "50010384",
   "metadata": {
    "slideshow": {
     "slide_type": "slide"
    }
   },
   "source": [
    "# Tasks and results\n",
    "\n",
    "## Preparation\n",
    "1. OCR (Fajar)\n",
    "2. Document splitting (Fajar and Jackson)\n",
    "3. Metadata extraction\n",
    "    * From docs: (Justin)\n",
    "    * From inventory lists: (Jackson and Maik)\n",
    "4. Whiteout text detection (Ammar) \n",
    "\n",
    "## Collection\n",
    "5. Data crawling and quality assessment (Yunus)\n",
    "\n",
    "## Search engine\n",
    "\n",
    "1. Schema of a WOB (Maik)\n",
    "2. \"Basic\" search engine (Sam)\n",
    "3. e-discovery tasks, interactive search engine (Filipp)\n",
    "\n",
    "## Wob creation software\n",
    "\n",
    "1.  Maik"
   ]
  },
  {
   "cell_type": "markdown",
   "id": "bf08e1ef",
   "metadata": {
    "slideshow": {
     "slide_type": "slide"
    }
   },
   "source": [
    "# Results so far\n",
    "\n",
    "1. Document splitting gold corpus\n",
    "    * Maarten (must do 2nd part still)\n",
    "    * Jackson : evaluation script, Bcubed P and R, baselines\n",
    "2. OCR\n",
    "    * Fajar found good/optimal settings\n",
    "    * large scale to be done still\n",
    "3. Crawling\n",
    "    * Covid corpus\n",
    "    * openstate corpus\n",
    "    * several lower governments\n",
    "        * Needs to be made automatic, robust,  updateable, and larger coverage\n",
    "4. Schema\n",
    "    * Maik: Version 0.9 \n",
    "        * some examples covered well\n",
    "        * need automatioc transformers\n",
    "5. Search engine\n",
    "    * Sam: Version 0.1\n",
    "        * Elasticsearch\n",
    "        * based on Maiks schema\n",
    "        * some example data"
   ]
  },
  {
   "cell_type": "code",
   "execution_count": null,
   "id": "f7e9b9d0",
   "metadata": {},
   "outputs": [],
   "source": []
  }
 ],
 "metadata": {
  "celltoolbar": "Slideshow",
  "kernelspec": {
   "display_name": "Python 3",
   "language": "python",
   "name": "python3"
  },
  "language_info": {
   "codemirror_mode": {
    "name": "ipython",
    "version": 3
   },
   "file_extension": ".py",
   "mimetype": "text/x-python",
   "name": "python",
   "nbconvert_exporter": "python",
   "pygments_lexer": "ipython3",
   "version": "3.8.8"
  },
  "toc": {
   "nav_menu": {},
   "number_sections": false,
   "sideBar": true,
   "skip_h1_title": false,
   "title_cell": "Table of Contents",
   "title_sidebar": "Contents",
   "toc_cell": false,
   "toc_position": {},
   "toc_section_display": true,
   "toc_window_display": false
  }
 },
 "nbformat": 4,
 "nbformat_minor": 5
}
