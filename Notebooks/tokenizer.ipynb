{
 "cells": [
  {
   "cell_type": "code",
   "execution_count": 11,
   "metadata": {},
   "outputs": [],
   "source": [
    "from bs4 import BeautifulSoup\n",
    "import re\n",
    "import pandas as pd\n",
    "from sklearn.model_selection import train_test_split\n",
    "import nltk\n",
    "from nltk.corpus import stopwords\n",
    "from gensim.models.doc2vec import TaggedDocument"
   ]
  },
  {
   "cell_type": "markdown",
   "metadata": {},
   "source": [
    "The steps would be:\n",
    "1. load the extracted text in 2 csv files and concatenate them as one\n",
    "2. Use nltk library to tokenize the extracted text\n",
    "3. Build the vocabularies\n",
    "4. Train a Doc2Vec model\n",
    "5. Save the Doc2Vec model"
   ]
  },
  {
   "cell_type": "code",
   "execution_count": 5,
   "metadata": {},
   "outputs": [
    {
     "data": {
      "text/html": [
       "<div>\n",
       "<style scoped>\n",
       "    .dataframe tbody tr th:only-of-type {\n",
       "        vertical-align: middle;\n",
       "    }\n",
       "\n",
       "    .dataframe tbody tr th {\n",
       "        vertical-align: top;\n",
       "    }\n",
       "\n",
       "    .dataframe thead th {\n",
       "        text-align: right;\n",
       "    }\n",
       "</style>\n",
       "<table border=\"1\" class=\"dataframe\">\n",
       "  <thead>\n",
       "    <tr style=\"text-align: right;\">\n",
       "      <th></th>\n",
       "      <th>labels</th>\n",
       "      <th>paths</th>\n",
       "      <th>text</th>\n",
       "    </tr>\n",
       "  </thead>\n",
       "  <tbody>\n",
       "    <tr>\n",
       "      <th>0</th>\n",
       "      <td>0.0</td>\n",
       "      <td>868212__concatenated_p_1.jpg</td>\n",
       "      <td>Handreiking | Veilige Moskee\\n\\nInhoudsopgave\\...</td>\n",
       "    </tr>\n",
       "    <tr>\n",
       "      <th>1</th>\n",
       "      <td>0.0</td>\n",
       "      <td>868212__concatenated_p_10.jpg</td>\n",
       "      <td>Handreiking | Veilige Moskee\\n\\nLandelijke wer...</td>\n",
       "    </tr>\n",
       "    <tr>\n",
       "      <th>2</th>\n",
       "      <td>0.0</td>\n",
       "      <td>868212__concatenated_p_100.jpg</td>\n",
       "      <td>Gemeente Amsterdam Datum 28 mei 2015\\nKenmerk\\...</td>\n",
       "    </tr>\n",
       "    <tr>\n",
       "      <th>3</th>\n",
       "      <td>0.0</td>\n",
       "      <td>868212__concatenated_p_101.jpg</td>\n",
       "      <td>Gemeente Amsterdam Datum 28 mei 2015\\nKenmerk\\...</td>\n",
       "    </tr>\n",
       "    <tr>\n",
       "      <th>4</th>\n",
       "      <td>0.0</td>\n",
       "      <td>868212__concatenated_p_102.jpg</td>\n",
       "      <td>Gemeente Amsterdam Datum 28 mei 2015\\nKenmerk\\...</td>\n",
       "    </tr>\n",
       "  </tbody>\n",
       "</table>\n",
       "</div>"
      ],
      "text/plain": [
       "   labels                           paths  \\\n",
       "0     0.0    868212__concatenated_p_1.jpg   \n",
       "1     0.0   868212__concatenated_p_10.jpg   \n",
       "2     0.0  868212__concatenated_p_100.jpg   \n",
       "3     0.0  868212__concatenated_p_101.jpg   \n",
       "4     0.0  868212__concatenated_p_102.jpg   \n",
       "\n",
       "                                                text  \n",
       "0  Handreiking | Veilige Moskee\\n\\nInhoudsopgave\\...  \n",
       "1  Handreiking | Veilige Moskee\\n\\nLandelijke wer...  \n",
       "2  Gemeente Amsterdam Datum 28 mei 2015\\nKenmerk\\...  \n",
       "3  Gemeente Amsterdam Datum 28 mei 2015\\nKenmerk\\...  \n",
       "4  Gemeente Amsterdam Datum 28 mei 2015\\nKenmerk\\...  "
      ]
     },
     "execution_count": 5,
     "metadata": {},
     "output_type": "execute_result"
    }
   ],
   "source": [
    "df_0 = pd.read_csv('data/0.0.csv')\n",
    "df_1 = pd.read_csv('data/1.0.csv')\n",
    "frames = [df_0, df_1]\n",
    "  \n",
    "df = pd.concat(frames)\n",
    "df.reset_index()\n",
    "df.head()"
   ]
  },
  {
   "cell_type": "code",
   "execution_count": 6,
   "metadata": {},
   "outputs": [],
   "source": [
    "def cleanText(text):\n",
    "    text = BeautifulSoup(text, \"html.parser\").text\n",
    "    text = re.sub(r'\\|\\|\\|', r' ', text)\n",
    "    text = re.sub(r'\\\\n', r' ', text)\n",
    "    text = re.sub(r'http\\S+', r'<URL>', text)\n",
    "    text = text.lower()\n",
    "    text = text.replace('x', '')\n",
    "    return text\n",
    "\n",
    "def print_complaint(df, index):\n",
    "    example = df[df.index == index][[\"labels\", \"text\"]].values[0]\n",
    "    if len(example) > 0:\n",
    "        print(example[1])\n",
    "        print('labels:', example[0])"
   ]
  },
  {
   "cell_type": "code",
   "execution_count": 7,
   "metadata": {},
   "outputs": [
    {
     "data": {
      "text/html": [
       "<div>\n",
       "<style scoped>\n",
       "    .dataframe tbody tr th:only-of-type {\n",
       "        vertical-align: middle;\n",
       "    }\n",
       "\n",
       "    .dataframe tbody tr th {\n",
       "        vertical-align: top;\n",
       "    }\n",
       "\n",
       "    .dataframe thead th {\n",
       "        text-align: right;\n",
       "    }\n",
       "</style>\n",
       "<table border=\"1\" class=\"dataframe\">\n",
       "  <thead>\n",
       "    <tr style=\"text-align: right;\">\n",
       "      <th></th>\n",
       "      <th>labels</th>\n",
       "      <th>paths</th>\n",
       "      <th>text</th>\n",
       "    </tr>\n",
       "  </thead>\n",
       "  <tbody>\n",
       "    <tr>\n",
       "      <th>0</th>\n",
       "      <td>0.0</td>\n",
       "      <td>868212__concatenated_p_1.jpg</td>\n",
       "      <td>Handreiking | Veilige Moskee\\n\\nInhoudsopgave\\...</td>\n",
       "    </tr>\n",
       "    <tr>\n",
       "      <th>1</th>\n",
       "      <td>0.0</td>\n",
       "      <td>868212__concatenated_p_10.jpg</td>\n",
       "      <td>Handreiking | Veilige Moskee\\n\\nLandelijke wer...</td>\n",
       "    </tr>\n",
       "    <tr>\n",
       "      <th>2</th>\n",
       "      <td>0.0</td>\n",
       "      <td>868212__concatenated_p_100.jpg</td>\n",
       "      <td>Gemeente Amsterdam Datum 28 mei 2015\\nKenmerk\\...</td>\n",
       "    </tr>\n",
       "    <tr>\n",
       "      <th>3</th>\n",
       "      <td>0.0</td>\n",
       "      <td>868212__concatenated_p_101.jpg</td>\n",
       "      <td>Gemeente Amsterdam Datum 28 mei 2015\\nKenmerk\\...</td>\n",
       "    </tr>\n",
       "    <tr>\n",
       "      <th>4</th>\n",
       "      <td>0.0</td>\n",
       "      <td>868212__concatenated_p_102.jpg</td>\n",
       "      <td>Gemeente Amsterdam Datum 28 mei 2015\\nKenmerk\\...</td>\n",
       "    </tr>\n",
       "  </tbody>\n",
       "</table>\n",
       "</div>"
      ],
      "text/plain": [
       "   labels                           paths  \\\n",
       "0     0.0    868212__concatenated_p_1.jpg   \n",
       "1     0.0   868212__concatenated_p_10.jpg   \n",
       "2     0.0  868212__concatenated_p_100.jpg   \n",
       "3     0.0  868212__concatenated_p_101.jpg   \n",
       "4     0.0  868212__concatenated_p_102.jpg   \n",
       "\n",
       "                                                text  \n",
       "0  Handreiking | Veilige Moskee\\n\\nInhoudsopgave\\...  \n",
       "1  Handreiking | Veilige Moskee\\n\\nLandelijke wer...  \n",
       "2  Gemeente Amsterdam Datum 28 mei 2015\\nKenmerk\\...  \n",
       "3  Gemeente Amsterdam Datum 28 mei 2015\\nKenmerk\\...  \n",
       "4  Gemeente Amsterdam Datum 28 mei 2015\\nKenmerk\\...  "
      ]
     },
     "execution_count": 7,
     "metadata": {},
     "output_type": "execute_result"
    }
   ],
   "source": [
    "df.fillna('', inplace=True)\n",
    "df.head()"
   ]
  },
  {
   "cell_type": "code",
   "execution_count": 8,
   "metadata": {},
   "outputs": [
    {
     "name": "stderr",
     "output_type": "stream",
     "text": [
      "/Users/tuvovan/miniforge3/envs/joon/lib/python3.8/site-packages/bs4/__init__.py:435: MarkupResemblesLocatorWarning: The input looks more like a filename than markup. You may want to open this file and pass the filehandle into Beautiful Soup.\n",
      "  warnings.warn(\n",
      "/Users/tuvovan/miniforge3/envs/joon/lib/python3.8/site-packages/bs4/__init__.py:404: MarkupResemblesLocatorWarning: The input looks more like a URL than markup. You may want to use an HTTP client like requests to get the document behind the URL, and feed that document to Beautiful Soup.\n",
      "  warnings.warn(\n"
     ]
    }
   ],
   "source": [
    "df['text_processed'] = df['text'].apply(cleanText)"
   ]
  },
  {
   "cell_type": "code",
   "execution_count": 12,
   "metadata": {},
   "outputs": [],
   "source": [
    "train, test = train_test_split(df, test_size=0.3, random_state=42)\n",
    "def tokenize_text(text):\n",
    "    tokens = []\n",
    "    for sent in nltk.sent_tokenize(text):\n",
    "        for word in nltk.word_tokenize(sent):\n",
    "            if len(word) < 2:\n",
    "                continue\n",
    "            tokens.append(word.lower())\n",
    "    return tokens\n",
    "train_tagged = train.apply(\n",
    "    lambda r: TaggedDocument(words=tokenize_text(r['text_processed']), tags=[r.labels]), axis=1)\n",
    "test_tagged = test.apply(\n",
    "    lambda r: TaggedDocument(words=tokenize_text(r['text_processed']), tags=[r.labels]), axis=1)"
   ]
  },
  {
   "cell_type": "code",
   "execution_count": null,
   "metadata": {},
   "outputs": [],
   "source": [
    "import multiprocessing\n",
    "from tqdm import tqdm\n",
    "from gensim.models import Doc2Vec\n",
    "\n",
    "cores = multiprocessing.cpu_count()\n",
    "d2v_Model = Doc2Vec(dm=0, vector_size=300, negative=5, hs=0, min_count=2, sample = 0, workers=cores)\n",
    "d2v_Model.build_vocab([x for x in tqdm(train_tagged.values)])"
   ]
  },
  {
   "cell_type": "code",
   "execution_count": null,
   "metadata": {
    "pycharm": {
     "name": "#%%\n"
    }
   },
   "outputs": [],
   "source": [
    "from sklearn import utils\n",
    "\n",
    "epochs = 50\n",
    "for epoch in range(epochs):\n",
    "    d2v_Model.train(utils.shuffle([x for x in tqdm(train_tagged.values)]), total_examples=len(train_tagged.values), epochs=1)\n",
    "    d2v_Model.alpha -= 0.002\n",
    "    d2v_Model.min_alpha = d2v_Model.alpha\n",
    "\n",
    "fname = \"./model_runs/pdf_split_d2v.mod\"\n",
    "d2v_Model.save(fname)"
   ]
  },
  {
   "cell_type": "code",
   "execution_count": 70,
   "metadata": {
    "pycharm": {
     "is_executing": false,
     "name": "#%%\n"
    }
   },
   "outputs": [
    {
     "name": "stdout",
     "output_type": "stream",
     "text": [
      "[ 1.96141694e-02  2.88925953e-02  3.99991348e-02 -3.03983167e-02\n",
      " -1.51108112e-02 -4.21896623e-03  3.59616205e-02  2.17935592e-02\n",
      "  4.93520051e-02 -1.44191049e-02 -1.54240988e-02 -2.99990624e-02\n",
      "  2.35345103e-02  2.05198899e-02  1.63179319e-02  2.84231380e-02\n",
      " -7.31207430e-04 -2.21286397e-02  2.50699408e-02  1.38327805e-02\n",
      "  7.60966726e-03 -1.77247263e-03  1.46660432e-02 -6.66098669e-04\n",
      " -9.64964274e-03  1.18551124e-02  1.23616708e-02  1.37782237e-02\n",
      " -1.37629267e-02  2.07799468e-02 -1.57081075e-02 -1.60328429e-02\n",
      "  1.40209235e-02  1.50070805e-02 -8.36930121e-04 -5.40789310e-03\n",
      " -1.98698835e-03  1.33919120e-02  1.00629404e-02 -7.52525637e-03\n",
      "  2.49000778e-03  2.81572193e-02 -2.00807527e-02  3.16771269e-02\n",
      " -1.47041008e-02 -4.32784203e-04 -1.30706392e-02  1.29079623e-02\n",
      " -1.72178373e-02  3.21473479e-02 -2.10126396e-03  8.22720304e-03\n",
      "  1.53654302e-02  2.51924954e-02  3.79121909e-03 -2.87226140e-02\n",
      " -1.69163458e-02 -1.11198146e-03  1.31094456e-03 -3.13359462e-02\n",
      " -7.28098443e-04  7.29365274e-05 -1.49095245e-02  4.02920274e-03\n",
      "  4.30702511e-03  1.95506848e-02 -1.77440625e-02 -1.37825133e-02\n",
      " -3.63336690e-03  2.51075458e-02  5.07348590e-03 -1.09296134e-02\n",
      "  2.83766128e-02  3.07950079e-02  2.80394517e-02 -7.21421931e-03\n",
      "  2.70325989e-02  2.48539336e-02 -6.14064327e-03 -3.98398098e-03\n",
      " -1.30098518e-02 -4.51026578e-03  3.56311770e-03  3.15325009e-03\n",
      " -1.02138799e-02 -1.91892032e-04 -6.49527181e-03  6.62121782e-03\n",
      " -1.01952050e-02 -2.01635715e-03  1.35924900e-02 -1.00782514e-02\n",
      "  2.07853206e-02  1.09732291e-02  8.94383155e-03 -1.57676190e-02\n",
      " -8.15393403e-03  5.23883570e-03 -1.70119647e-02 -6.74384460e-03\n",
      "  7.11672427e-03  2.83999508e-03  9.54785012e-03 -7.34262774e-03\n",
      "  2.17937566e-02  8.50267708e-03  4.67716064e-03 -2.27101929e-02\n",
      " -6.50441553e-03 -4.97931894e-03  1.61217223e-03  5.91628067e-03\n",
      "  3.82072129e-03  8.10899772e-03 -1.29472669e-02  1.21094938e-02\n",
      "  1.75325777e-02  5.82707813e-04 -7.53145386e-03 -1.57545861e-02\n",
      " -9.75632481e-03 -4.20081196e-03  7.09850015e-03 -9.17644054e-03\n",
      "  7.64896441e-03 -3.51851573e-03  3.40550556e-03  9.00821760e-05\n",
      " -7.32981786e-03  2.01293677e-02 -1.33258989e-02 -4.26201848e-03\n",
      "  2.02972046e-03 -1.75679792e-02  1.09004788e-02  1.63359684e-03\n",
      " -3.32001364e-04 -5.32687502e-03  2.07667034e-02  1.18015949e-02\n",
      " -2.00379323e-02 -1.55420415e-03 -9.07646213e-03  2.71650087e-02\n",
      " -3.47512634e-03 -1.28607475e-03  2.70787068e-03 -2.29958389e-02\n",
      "  1.53989939e-04  1.34803578e-02  1.13202427e-02 -3.35410051e-02\n",
      " -1.88512728e-02  3.18555385e-02  6.99044205e-03 -2.09551547e-02\n",
      "  5.60220424e-03 -1.93795748e-02  1.42047424e-02  1.03320759e-02\n",
      " -1.26839690e-02 -1.83084868e-02 -2.15812288e-02  1.36763724e-02\n",
      " -5.14115300e-03  2.24971678e-02  2.08567344e-02  2.12060809e-02\n",
      "  2.23515537e-02  5.89592091e-04  3.65031348e-03 -3.72552942e-03\n",
      " -5.65065769e-03 -1.01821460e-02 -1.20384833e-02  5.64967655e-03\n",
      " -9.81783494e-03 -4.63228766e-03  4.54333890e-03 -9.87263210e-03\n",
      " -1.44383144e-02 -4.79610125e-03  1.01958234e-02 -5.57155488e-03\n",
      "  1.23239998e-02 -1.93583909e-02  2.96364329e-03 -7.31882593e-03\n",
      " -1.53846303e-02  1.13964174e-03  1.05100079e-02 -9.68922582e-03\n",
      " -6.81909267e-04 -1.46331936e-02  2.49353051e-03 -4.46030591e-03\n",
      " -1.22274719e-02  1.16557116e-02 -5.81205171e-03 -5.87212620e-03\n",
      "  1.45288408e-02  1.56551991e-02 -1.86395310e-02  1.43242879e-02\n",
      " -1.35151250e-02  1.10919159e-02 -2.28159744e-02  1.38196535e-02\n",
      " -9.56480019e-03 -1.10690929e-02  2.11660229e-02 -1.34671759e-02\n",
      "  1.87919419e-02  1.08760074e-02 -1.19987139e-02 -2.72264108e-02\n",
      "  4.95864172e-03  6.88120723e-03  1.87335536e-06  2.70526437e-03\n",
      "  1.44563019e-02  1.63786057e-02 -6.43669069e-03 -1.16883293e-02\n",
      "  1.12578562e-02 -7.71892164e-03  2.76096258e-03 -7.11659156e-03\n",
      "  1.07594132e-02 -7.22268969e-03  9.74879693e-03  1.31224543e-02\n",
      " -7.05155497e-03  7.40170991e-03  4.12287097e-03 -2.56394874e-03\n",
      "  1.38780447e-02  6.00245176e-03 -9.50278190e-04  6.67265570e-03\n",
      " -2.10891739e-02 -2.32408307e-02 -1.66288540e-02 -1.04054511e-02\n",
      "  1.39215607e-02  1.56381004e-03  7.42655154e-03 -1.64238960e-02\n",
      "  1.23148225e-02  1.84350349e-02  2.17372477e-02  1.85368471e-02\n",
      "  1.55261103e-02  5.46057429e-03  3.67664499e-03 -1.17950030e-02\n",
      " -1.08061768e-02  2.16067769e-04 -1.39007531e-03 -5.59345260e-03\n",
      " -1.19537686e-03 -1.43928342e-02 -1.26917325e-02  4.89816419e-04\n",
      "  7.46502448e-03 -4.98225819e-03  4.98633017e-04 -1.48942331e-02\n",
      " -6.26435410e-03  1.15690578e-03  3.88071057e-03 -1.10254306e-02\n",
      "  5.57842711e-03 -1.50688672e-02 -1.87193751e-02  5.87929506e-03\n",
      "  3.16924788e-02  4.26719384e-03  1.77942850e-02  1.49928667e-02\n",
      "  2.09688209e-02 -1.38657736e-02  6.78203581e-03  8.47066753e-03\n",
      "  3.09759937e-03 -1.79596841e-02 -8.22546519e-03  5.83861023e-04\n",
      "  4.29568663e-02 -4.28682193e-03  7.95782730e-03  1.61883961e-02\n",
      "  3.09616849e-02 -2.03764606e-02 -2.93830615e-02 -1.64469201e-02\n",
      "  9.70027037e-03 -6.13141153e-03 -3.52541432e-02  1.48492996e-02]\n"
     ]
    }
   ],
   "source": [
    "model = Doc2Vec.load(\"./model_runs/pdf_split_d2v.mod\")\n",
    "vec_test = model.infer_vector(['title', 'love', 'cat', 'chapter'])\n",
    "print(vec_test)"
   ]
  }
 ],
 "metadata": {
  "interpreter": {
   "hash": "4c6db50b4d1f5928cfc9fdd61658a551a4e1af316797848a4d87ad9efbdb0ec0"
  },
  "kernelspec": {
   "display_name": "Python 3",
   "language": "python",
   "name": "python3"
  },
  "language_info": {
   "codemirror_mode": {
    "name": "ipython",
    "version": 3
   },
   "file_extension": ".py",
   "mimetype": "text/x-python",
   "name": "python",
   "nbconvert_exporter": "python",
   "pygments_lexer": "ipython3",
   "version": "3.8.8"
  },
  "pycharm": {
   "stem_cell": {
    "cell_type": "raw",
    "metadata": {
     "collapsed": false
    },
    "source": []
   }
  }
 },
 "nbformat": 4,
 "nbformat_minor": 2
}
