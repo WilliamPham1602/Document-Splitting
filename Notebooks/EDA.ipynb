{
 "cells": [
  {
   "cell_type": "code",
   "execution_count": 12,
   "id": "e59b3943",
   "metadata": {},
   "outputs": [],
   "source": [
    "import json\n",
    "import pandas as pd\n",
    "import numpy as np\n",
    "# import seaborn as sns\n",
    "from collections import defaultdict\n",
    "import matplotlib.pyplot as plt\n",
    "%matplotlib inline\n"
   ]
  },
  {
   "cell_type": "code",
   "execution_count": 13,
   "id": "552bf6ab",
   "metadata": {},
   "outputs": [
    {
     "name": "stdout",
     "output_type": "stream",
     "text": [
      "../corpus1/TrainTestSet/:\n",
      "\u001b[1m\u001b[36mTestset\u001b[m\u001b[m/     \u001b[31mTestset.zip\u001b[m\u001b[m* \u001b[1m\u001b[36mTrainset\u001b[m\u001b[m/\n",
      "\n",
      "../corpus2/TrainTestSet/:\n",
      "\u001b[31mTestset.zip\u001b[m\u001b[m* \u001b[1m\u001b[36mTrainset\u001b[m\u001b[m/\n"
     ]
    }
   ],
   "source": [
    "ls ../corpus*/TrainTestSet/"
   ]
  },
  {
   "cell_type": "code",
   "execution_count": 14,
   "id": "b3712f5c",
   "metadata": {},
   "outputs": [
    {
     "name": "stdout",
     "output_type": "stream",
     "text": [
      "../corpus1/TrainTestSet/Trainset/:\n",
      "\u001b[31mDoclengths_of_the_individual_docs_TRAIN.json\u001b[m\u001b[m*\n",
      "\u001b[1m\u001b[36mVerzoekEnBesluit\u001b[m\u001b[m/\n",
      "\u001b[1m\u001b[36mdata\u001b[m\u001b[m/\n",
      "\u001b[31mocred_text.csv.gz\u001b[m\u001b[m*\n",
      "\n",
      "../corpus2/TrainTestSet/Trainset/:\n",
      "\u001b[31mDoclengths_of_the_individual_docs_TRAIN.json\u001b[m\u001b[m*\n",
      "\u001b[1m\u001b[36mdata\u001b[m\u001b[m/\n",
      "\u001b[31mocred_text.csv.gz\u001b[m\u001b[m*\n"
     ]
    }
   ],
   "source": [
    "ls ../corpus*/TrainTestSet/Trainset/"
   ]
  },
  {
   "cell_type": "code",
   "execution_count": 17,
   "id": "59e5f5b7",
   "metadata": {},
   "outputs": [
    {
     "data": {
      "text/plain": [
       "{'corpus1': {'train': {'#files': 113, '#docs': 3914, '#pages': 19102}},\n",
       " 'corpus2': {'train': {'#files': 52, '#docs': 2123, '#pages': 16537}}}"
      ]
     },
     "execution_count": 17,
     "metadata": {},
     "output_type": "execute_result"
    }
   ],
   "source": [
    "f1= open('../corpus1/TrainTestSet/Trainset/Doclengths_of_the_individual_docs_TRAIN.json')\n",
    "f2= open('../corpus2/TrainTestSet/Trainset/Doclengths_of_the_individual_docs_TRAIN.json')\n",
    "# only works when secret Testset is open\n",
    "# f2test= open('../corpus2/TrainTestSet/Trainset/Doclengths_of_the_individual_docs_TRAIN.json')\n",
    "# f1test= open('../corpus1/TrainTestSet/Trainset/Doclengths_of_the_individual_docs_TRAIN.json')\n",
    "truth_corpus1,truth_corpus2=(\n",
    "    json.load(f1),json.load(f2)\n",
    ")\n",
    "\n",
    "D={'corpus1': {'train': \n",
    "               {'#files': len(truth_corpus1),\n",
    "                '#docs': sum(len(l) for l in truth_corpus1.values()),\n",
    "               '#pages': sum(sum(l) for l in truth_corpus1.values())},          \n",
    "              },\n",
    "   'corpus2': {'train': \n",
    "               {'#files': len(truth_corpus2),\n",
    "                '#docs': sum(len(l) for l in truth_corpus2.values()),\n",
    "               '#pages': sum(sum(l) for l in truth_corpus2.values())},   \n",
    "   }\n",
    "  }\n",
    " \n",
    "D"
   ]
  },
  {
   "cell_type": "code",
   "execution_count": 18,
   "id": "8164ffc8",
   "metadata": {},
   "outputs": [],
   "source": [
    "# ocr text of c2 is only the train corpus , for c1 it is train and test\n",
    "c1,c2= (pd.read_csv('../corpus1/TrainTestSet/Trainset/ocred_text.csv.gz'),\n",
    "        pd.read_csv('../corpus2/TrainTestSet/Trainset/ocred_text.csv.gz'))\n",
    "c1.name=c1.name.str.replace('__concatenated','')\n",
    "c2.name=c2.name.str.replace('__concatenated','')\n",
    "#c2test.name=c2test.name.str.replace('__concatenated','')"
   ]
  },
  {
   "cell_type": "code",
   "execution_count": 19,
   "id": "fe19cddc",
   "metadata": {},
   "outputs": [
    {
     "data": {
      "text/html": [
       "<div>\n",
       "<style scoped>\n",
       "    .dataframe tbody tr th:only-of-type {\n",
       "        vertical-align: middle;\n",
       "    }\n",
       "\n",
       "    .dataframe tbody tr th {\n",
       "        vertical-align: top;\n",
       "    }\n",
       "\n",
       "    .dataframe thead th {\n",
       "        text-align: right;\n",
       "    }\n",
       "</style>\n",
       "<table border=\"1\" class=\"dataframe\">\n",
       "  <thead>\n",
       "    <tr style=\"text-align: right;\">\n",
       "      <th></th>\n",
       "      <th>Unnamed: 0</th>\n",
       "      <th>full_name</th>\n",
       "      <th>name</th>\n",
       "      <th>page</th>\n",
       "      <th>text</th>\n",
       "    </tr>\n",
       "  </thead>\n",
       "  <tbody>\n",
       "    <tr>\n",
       "      <th>0</th>\n",
       "      <td>0</td>\n",
       "      <td>993832_files.zip__concatenated-0961.txt</td>\n",
       "      <td>993832_files.zip</td>\n",
       "      <td>961</td>\n",
       "      <td>2085\\n2086\\n2087\\n2088\\n2089\\n2090\\n2091\\n2092...</td>\n",
       "    </tr>\n",
       "    <tr>\n",
       "      <th>1</th>\n",
       "      <td>1</td>\n",
       "      <td>963330_bijlagen.zip__concatenated-017.txt</td>\n",
       "      <td>963330_bijlagen.zip</td>\n",
       "      <td>17</td>\n",
       "      <td>26-mei-2011\\n55-09-0102\\n\\nGemeente Amsterdam\\...</td>\n",
       "    </tr>\n",
       "    <tr>\n",
       "      <th>2</th>\n",
       "      <td>2</td>\n",
       "      <td>890248__concatenated-252.txt</td>\n",
       "      <td>890248</td>\n",
       "      <td>252</td>\n",
       "      <td>o gehele of gedeeltelijke integratie van woons...</td>\n",
       "    </tr>\n",
       "    <tr>\n",
       "      <th>3</th>\n",
       "      <td>3</td>\n",
       "      <td>892231__concatenated-36.txt</td>\n",
       "      <td>892231</td>\n",
       "      <td>36</td>\n",
       "      <td>NaN</td>\n",
       "    </tr>\n",
       "    <tr>\n",
       "      <th>4</th>\n",
       "      <td>4</td>\n",
       "      <td>967331_files_1_1.zip__concatenated-578.txt</td>\n",
       "      <td>967331_files_1_1.zip</td>\n",
       "      <td>578</td>\n",
       "      <td>X X X\\n\\nGemeente l\\nA mste rd am 1018 XA Amst...</td>\n",
       "    </tr>\n",
       "    <tr>\n",
       "      <th>...</th>\n",
       "      <td>...</td>\n",
       "      <td>...</td>\n",
       "      <td>...</td>\n",
       "      <td>...</td>\n",
       "      <td>...</td>\n",
       "    </tr>\n",
       "    <tr>\n",
       "      <th>25212</th>\n",
       "      <td>25212</td>\n",
       "      <td>890321__concatenated-715.txt</td>\n",
       "      <td>890321</td>\n",
       "      <td>715</td>\n",
       "      <td>Gemeente Amsterdam Versie 3\\nProjectplan Javab...</td>\n",
       "    </tr>\n",
       "    <tr>\n",
       "      <th>25213</th>\n",
       "      <td>25213</td>\n",
       "      <td>964251_files_1.zip__concatenated-23.txt</td>\n",
       "      <td>964251_files_1.zip</td>\n",
       "      <td>23</td>\n",
       "      <td>\\n\\n \\n\\n \\n\\nBeleidsregels\\nreclame en\\n\\nmm...</td>\n",
       "    </tr>\n",
       "    <tr>\n",
       "      <th>25214</th>\n",
       "      <td>25214</td>\n",
       "      <td>967331_files_1_1.zip__concatenated-486.txt</td>\n",
       "      <td>967331_files_1_1.zip</td>\n",
       "      <td>486</td>\n",
       "      <td>\\n\\n \\n\\nkeuze voor keuze voor keuze voor in ...</td>\n",
       "    </tr>\n",
       "    <tr>\n",
       "      <th>25215</th>\n",
       "      <td>25215</td>\n",
       "      <td>889752__concatenated-274.txt</td>\n",
       "      <td>889752</td>\n",
       "      <td>274</td>\n",
       "      <td>\\n\\n* X X\\n\\n \\n\\nCanonaanpassing bij wijzigi...</td>\n",
       "    </tr>\n",
       "    <tr>\n",
       "      <th>25216</th>\n",
       "      <td>25216</td>\n",
       "      <td>963588_files.zip__concatenated-144.txt</td>\n",
       "      <td>963588_files.zip</td>\n",
       "      <td>144</td>\n",
       "      <td>De Durger\\n\\nCordaanlocaties - Amsterdam Noord...</td>\n",
       "    </tr>\n",
       "  </tbody>\n",
       "</table>\n",
       "<p>25217 rows × 5 columns</p>\n",
       "</div>"
      ],
      "text/plain": [
       "       Unnamed: 0                                   full_name  \\\n",
       "0               0     993832_files.zip__concatenated-0961.txt   \n",
       "1               1   963330_bijlagen.zip__concatenated-017.txt   \n",
       "2               2                890248__concatenated-252.txt   \n",
       "3               3                 892231__concatenated-36.txt   \n",
       "4               4  967331_files_1_1.zip__concatenated-578.txt   \n",
       "...           ...                                         ...   \n",
       "25212       25212                890321__concatenated-715.txt   \n",
       "25213       25213     964251_files_1.zip__concatenated-23.txt   \n",
       "25214       25214  967331_files_1_1.zip__concatenated-486.txt   \n",
       "25215       25215                889752__concatenated-274.txt   \n",
       "25216       25216      963588_files.zip__concatenated-144.txt   \n",
       "\n",
       "                       name  page  \\\n",
       "0          993832_files.zip   961   \n",
       "1       963330_bijlagen.zip    17   \n",
       "2                    890248   252   \n",
       "3                    892231    36   \n",
       "4      967331_files_1_1.zip   578   \n",
       "...                     ...   ...   \n",
       "25212                890321   715   \n",
       "25213    964251_files_1.zip    23   \n",
       "25214  967331_files_1_1.zip   486   \n",
       "25215                889752   274   \n",
       "25216      963588_files.zip   144   \n",
       "\n",
       "                                                    text  \n",
       "0      2085\\n2086\\n2087\\n2088\\n2089\\n2090\\n2091\\n2092...  \n",
       "1      26-mei-2011\\n55-09-0102\\n\\nGemeente Amsterdam\\...  \n",
       "2      o gehele of gedeeltelijke integratie van woons...  \n",
       "3                                                    NaN  \n",
       "4      X X X\\n\\nGemeente l\\nA mste rd am 1018 XA Amst...  \n",
       "...                                                  ...  \n",
       "25212  Gemeente Amsterdam Versie 3\\nProjectplan Javab...  \n",
       "25213   \\n\\n \\n\\n \\n\\nBeleidsregels\\nreclame en\\n\\nmm...  \n",
       "25214   \\n\\n \\n\\nkeuze voor keuze voor keuze voor in ...  \n",
       "25215   \\n\\n* X X\\n\\n \\n\\nCanonaanpassing bij wijzigi...  \n",
       "25216  De Durger\\n\\nCordaanlocaties - Amsterdam Noord...  \n",
       "\n",
       "[25217 rows x 5 columns]"
      ]
     },
     "execution_count": 19,
     "metadata": {},
     "output_type": "execute_result"
    }
   ],
   "source": [
    "c1"
   ]
  },
  {
   "cell_type": "code",
   "execution_count": 20,
   "id": "2b9734d0",
   "metadata": {},
   "outputs": [],
   "source": [
    "D['corpus1']['train']['#words']= c1[c1.name.isin(truth_corpus1)].text.str.split(r'\\W+').str.len().fillna(0).sum().astype(int)\n",
    "D['corpus2']['train']['#words']= c2[c2.name.isin(truth_corpus2)].text.str.split(r'\\W+').str.len().fillna(0).sum().astype(int)\n",
    "# D['corpus1']['test']['#words']= c1[~c1.name.isin(truth_corpus1)].text.str.split(r'\\W+').str.len().fillna(0).sum().astype(int)\n",
    "# D['corpus2']['test']['#words']= c2test[~c2test.name.isin(truth_corpus2)].text.str.split(r'\\W+').str.len().fillna(0).sum().astype(int)"
   ]
  },
  {
   "cell_type": "code",
   "execution_count": 21,
   "id": "f02c4f38",
   "metadata": {},
   "outputs": [],
   "source": [
    "D['corpus1']['train']['VocabSize']=len({w  for l in c1[c1.name.isin(truth_corpus1)].text.str.split(r'\\W+').dropna().values\n",
    "                                        for w in l  })\n",
    "D['corpus2']['train']['VocabSize']=len({w  for l in c2[c2.name.isin(truth_corpus2)].text.str.split(r'\\W+').dropna().values\n",
    "                                        for w in l  })\n",
    "# D['corpus1']['test']['VocabSize']=len({w  for l in c1[~c1.name.isin(truth_corpus1)].text.str.split(r'\\W+').dropna().values\n",
    "#                                         for w in l  })\n",
    "\n",
    "# D['corpus2']['test']['VocabSize']=len({w  for l in c2test[~c2test.name.isin(truth_corpus2)].text.str.split(r'\\W+').dropna().values\n",
    "#                                         for w in l  })\n"
   ]
  },
  {
   "cell_type": "markdown",
   "id": "bdee3500",
   "metadata": {},
   "source": [
    "# final overview table"
   ]
  },
  {
   "cell_type": "code",
   "execution_count": 22,
   "id": "ba390b7c",
   "metadata": {},
   "outputs": [],
   "source": [
    "a= pd.DataFrame.from_dict(D['corpus1'], orient='index')\n"
   ]
  },
  {
   "cell_type": "code",
   "execution_count": 24,
   "id": "81e2c2fa",
   "metadata": {},
   "outputs": [
    {
     "name": "stdout",
     "output_type": "stream",
     "text": [
      "<table border=\"1\" class=\"dataframe\">\n",
      "  <thead>\n",
      "    <tr style=\"text-align: right;\">\n",
      "      <th></th>\n",
      "      <th></th>\n",
      "      <th>#files</th>\n",
      "      <th>#docs</th>\n",
      "      <th>#pages</th>\n",
      "      <th>#words</th>\n",
      "      <th>VocabSize</th>\n",
      "    </tr>\n",
      "  </thead>\n",
      "  <tbody>\n",
      "    <tr>\n",
      "      <th>corpus1</th>\n",
      "      <th>train</th>\n",
      "      <td>113</td>\n",
      "      <td>3914</td>\n",
      "      <td>19102</td>\n",
      "      <td>4541516</td>\n",
      "      <td>155797</td>\n",
      "    </tr>\n",
      "    <tr>\n",
      "      <th>corpus2</th>\n",
      "      <th>train</th>\n",
      "      <td>52</td>\n",
      "      <td>2123</td>\n",
      "      <td>16537</td>\n",
      "      <td>4141853</td>\n",
      "      <td>189648</td>\n",
      "    </tr>\n",
      "  </tbody>\n",
      "</table>\n"
     ]
    },
    {
     "data": {
      "text/html": [
       "<div>\n",
       "<style scoped>\n",
       "    .dataframe tbody tr th:only-of-type {\n",
       "        vertical-align: middle;\n",
       "    }\n",
       "\n",
       "    .dataframe tbody tr th {\n",
       "        vertical-align: top;\n",
       "    }\n",
       "\n",
       "    .dataframe thead th {\n",
       "        text-align: right;\n",
       "    }\n",
       "</style>\n",
       "<table border=\"1\" class=\"dataframe\">\n",
       "  <thead>\n",
       "    <tr style=\"text-align: right;\">\n",
       "      <th></th>\n",
       "      <th></th>\n",
       "      <th>#files</th>\n",
       "      <th>#docs</th>\n",
       "      <th>#pages</th>\n",
       "      <th>#words</th>\n",
       "      <th>VocabSize</th>\n",
       "    </tr>\n",
       "  </thead>\n",
       "  <tbody>\n",
       "    <tr>\n",
       "      <th>corpus1</th>\n",
       "      <th>train</th>\n",
       "      <td>113</td>\n",
       "      <td>3914</td>\n",
       "      <td>19102</td>\n",
       "      <td>4541516</td>\n",
       "      <td>155797</td>\n",
       "    </tr>\n",
       "    <tr>\n",
       "      <th>corpus2</th>\n",
       "      <th>train</th>\n",
       "      <td>52</td>\n",
       "      <td>2123</td>\n",
       "      <td>16537</td>\n",
       "      <td>4141853</td>\n",
       "      <td>189648</td>\n",
       "    </tr>\n",
       "  </tbody>\n",
       "</table>\n",
       "</div>"
      ],
      "text/plain": [
       "               #files  #docs  #pages   #words  VocabSize\n",
       "corpus1 train     113   3914   19102  4541516     155797\n",
       "corpus2 train      52   2123   16537  4141853     189648"
      ]
     },
     "execution_count": 24,
     "metadata": {},
     "output_type": "execute_result"
    }
   ],
   "source": [
    "multiindex=pd.MultiIndex.from_product([['corpus1','corpus2'],['train']]) \n",
    "df= pd.concat([pd.DataFrame.from_dict(D['corpus1'], orient='index'),\n",
    "          pd.DataFrame.from_dict(D['corpus2'], orient='index')]).fillna(0).astype(int) \n",
    "df.set_index(multiindex, inplace=True)\n",
    "df.to_pickle('EDATable.pkl')\n",
    "print(df.to_html())\n",
    "df"
   ]
  },
  {
   "cell_type": "markdown",
   "id": "6e3fa02c",
   "metadata": {},
   "source": [
    "# Distributions "
   ]
  },
  {
   "cell_type": "code",
   "execution_count": 199,
   "id": "8b7c39c1",
   "metadata": {
    "scrolled": true
   },
   "outputs": [
    {
     "data": {
      "image/png": "[encoded data removed]",
      "text/plain": [
       "<Figure size 432x288 with 4 Axes>"
      ]
     },
     "metadata": {
      "needs_background": "light"
     },
     "output_type": "display_data"
    }
   ],
   "source": [
    "fig, axs = plt.subplots(2, 2)\n",
    "\n",
    "#axs[0,0].set_title('Nr of docs per file ')\n",
    "#axs[0, 1].plot(x, y, 'tab:orange')\n",
    "#axs[0, 1].set_title('Axis [0, 1]')\n",
    "#axs[1, 0].plot(x, -y, 'tab:green')\n",
    "#axs[1, 0].set_title('Axis [1, 0]')\n",
    "#axs[1, 1].plot(x, -y, 'tab:red')\n",
    "#axs[1, 1].set_title('Axis [1, 1]')\n",
    "\n",
    " \n",
    "\n",
    "axs[0,0].set(xlabel=' ', ylabel='Nr of docs per file' )  \n",
    "axs[1,0].set(xlabel='Corpus 1, train', ylabel='Nr of pages per doc' )  \n",
    "axs[1,1].set(xlabel='Corpus 2, train', ylabel='')\n",
    "axs[0,1].set(ylabel=' ', xlabel=' ')\n",
    "\n",
    "#for ax in axs.flat:\n",
    "axs[1,1].label_outer()\n",
    "axs[0,1].set_xticklabels([]) #.label_outer()\n",
    "axs[0,0].label_outer()\n",
    "\n",
    "# nr of docs per file: corpus 1, train\n",
    "sns.histplot(pd.Series([len(l) for l in truth_corpus1.values()]), log_scale=(True,False), kde=True, ax=axs[0, 0]);\n",
    "\n",
    "# nr of docs per file: corpus 2, train\n",
    "sns.histplot(pd.Series([len(l) for l in truth_corpus2.values()]), log_scale=(True,False), kde=True\n",
    "           , ax=axs[0, 1]);\n",
    "\n",
    "# nr of pages per doc: corpus 1, train\n",
    "sns.histplot(pd.Series([p  for l in truth_corpus1.values() for p in l] ), log_scale=(True,False), kde=True\n",
    "           , ax=axs[1, 0]);\n",
    "\n",
    "# nr of pages per doc: corpus 2, train\n",
    "sns.histplot(pd.Series([p  for l in truth_corpus1.values() for p in l]), log_scale=(True,False), kde=True\n",
    "           , ax=axs[1, 1]);\n",
    "\n",
    "fig.savefig('EDAdistributions.png')"
   ]
  },
  {
   "cell_type": "code",
   "execution_count": 205,
   "id": "334eae38",
   "metadata": {},
   "outputs": [
    {
     "name": "stdout",
     "output_type": "stream",
     "text": [
      "EDA.ipynb             EDATable.pkl          EDAdistributions.png\r\n"
     ]
    }
   ],
   "source": [
    "ls "
   ]
  },
  {
   "cell_type": "code",
   "execution_count": 200,
   "id": "8c229e78",
   "metadata": {},
   "outputs": [],
   "source": [
    "#!cp EDAdistributions.png ../../../../DocumentSplitting/wobir/ProbeerselsMarx/BcubedPR/ICTIR_Paper/DocumentSplitting"
   ]
  }
 ],
 "metadata": {
  "kernelspec": {
   "display_name": "Python 3",
   "language": "python",
   "name": "python3"
  },
  "language_info": {
   "codemirror_mode": {
    "name": "ipython",
    "version": 3
   },
   "file_extension": ".py",
   "mimetype": "text/x-python",
   "name": "python",
   "nbconvert_exporter": "python",
   "pygments_lexer": "ipython3",
   "version": "3.8.13"
  },
  "toc": {
   "nav_menu": {},
   "number_sections": false,
   "sideBar": true,
   "skip_h1_title": false,
   "title_cell": "Table of Contents",
   "title_sidebar": "Contents",
   "toc_cell": false,
   "toc_position": {},
   "toc_section_display": true,
   "toc_window_display": false
  }
 },
 "nbformat": 4,
 "nbformat_minor": 5
}
