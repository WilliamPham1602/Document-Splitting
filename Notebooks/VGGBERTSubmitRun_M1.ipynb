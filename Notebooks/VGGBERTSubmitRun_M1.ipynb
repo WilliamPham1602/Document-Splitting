{
 "cells": [
  {
   "cell_type": "markdown",
   "metadata": {
    "id": "nhHxhBjJtaXg"
   },
   "source": [
    "## TestTemplate Notebook"
   ]
  },
  {
   "cell_type": "markdown",
   "metadata": {
    "id": "znW6yTXstnHS"
   },
   "source": [
    "This notebook should be used to submit your model for testing on the test set and the submission of you model to the general leaderboard. Please copy it to your own submission folder and fill it in. Please note that it is important that you pip install any dependencies that your model needs so that we can easily run the model. In some cases, you might want to upload an already trained model to be evaluated, instead of training your model from scracth. This is HIGHLY recommended if you use models that take a long time to train, but for small sklearn models it is not very necessary."
   ]
  },
  {
   "cell_type": "markdown",
   "metadata": {},
   "source": [
    "## Submission instructions\n",
    "\n",
    "If you want to submit your model to be tested on the secret test sets, please implement your model in this 'SubmitRun' notebook, and make sure it works on the sample data. It is easiest to just download the 'Competition' folder for this and check that everything works. If so, please put your notebook and any other files you need (like trained model files). "
   ]
  },
  {
   "cell_type": "code",
   "execution_count": 1,
   "metadata": {
    "executionInfo": {
     "elapsed": 8,
     "status": "ok",
     "timestamp": 1652279988171,
     "user": {
      "displayName": "Ruben van Heusden",
      "userId": "02292024052020352966"
     },
     "user_tz": -120
    },
    "id": "NROs7EuDJGRv"
   },
   "outputs": [
    {
     "name": "stdout",
     "output_type": "stream",
     "text": [
      "Requirement already satisfied: sklearn in /opt/anaconda3/lib/python3.8/site-packages (0.0)\n",
      "Requirement already satisfied: scikit-learn in /opt/anaconda3/lib/python3.8/site-packages (from sklearn) (1.0.2)\n",
      "Requirement already satisfied: joblib>=0.11 in /opt/anaconda3/lib/python3.8/site-packages (from scikit-learn->sklearn) (1.0.1)\n",
      "Requirement already satisfied: threadpoolctl>=2.0.0 in /opt/anaconda3/lib/python3.8/site-packages (from scikit-learn->sklearn) (2.1.0)\n",
      "Requirement already satisfied: scipy>=1.1.0 in /opt/anaconda3/lib/python3.8/site-packages (from scikit-learn->sklearn) (1.8.0)\n",
      "Requirement already satisfied: numpy>=1.14.6 in /opt/anaconda3/lib/python3.8/site-packages (from scikit-learn->sklearn) (1.20.1)\n",
      "Looking in indexes: https://pypi.org/simple, https://download.pytorch.org/whl/nightly/cpu\n",
      "Requirement already satisfied: torch in /opt/anaconda3/lib/python3.8/site-packages (1.13.0.dev20220611)\n",
      "Requirement already satisfied: torchvision in /opt/anaconda3/lib/python3.8/site-packages (0.14.0.dev20220611)\n",
      "Requirement already satisfied: torchaudio in /opt/anaconda3/lib/python3.8/site-packages (0.13.0.dev20220611)\n",
      "Requirement already satisfied: typing-extensions in /opt/anaconda3/lib/python3.8/site-packages (from torch) (3.7.4.3)\n",
      "Requirement already satisfied: numpy in /opt/anaconda3/lib/python3.8/site-packages (from torchvision) (1.20.1)\n",
      "Requirement already satisfied: requests in /opt/anaconda3/lib/python3.8/site-packages (from torchvision) (2.25.1)\n",
      "Requirement already satisfied: pillow!=8.3.*,>=5.3.0 in /opt/anaconda3/lib/python3.8/site-packages (from torchvision) (8.2.0)\n",
      "Requirement already satisfied: urllib3<1.27,>=1.21.1 in /opt/anaconda3/lib/python3.8/site-packages (from requests->torchvision) (1.26.4)\n",
      "Requirement already satisfied: idna<3,>=2.5 in /opt/anaconda3/lib/python3.8/site-packages (from requests->torchvision) (2.10)\n",
      "Requirement already satisfied: certifi>=2017.4.17 in /opt/anaconda3/lib/python3.8/site-packages (from requests->torchvision) (2021.10.8)\n",
      "Requirement already satisfied: chardet<5,>=3.0.2 in /opt/anaconda3/lib/python3.8/site-packages (from requests->torchvision) (4.0.0)\n",
      "Requirement already satisfied: transformers in /opt/anaconda3/lib/python3.8/site-packages (4.19.4)\n",
      "Requirement already satisfied: pyyaml>=5.1 in /opt/anaconda3/lib/python3.8/site-packages (from transformers) (5.4.1)\n",
      "Requirement already satisfied: huggingface-hub<1.0,>=0.1.0 in /opt/anaconda3/lib/python3.8/site-packages (from transformers) (0.7.0)\n",
      "Requirement already satisfied: requests in /opt/anaconda3/lib/python3.8/site-packages (from transformers) (2.25.1)\n",
      "Requirement already satisfied: tqdm>=4.27 in /opt/anaconda3/lib/python3.8/site-packages (from transformers) (4.59.0)\n",
      "Requirement already satisfied: regex!=2019.12.17 in /opt/anaconda3/lib/python3.8/site-packages (from transformers) (2021.4.4)\n",
      "Requirement already satisfied: packaging>=20.0 in /opt/anaconda3/lib/python3.8/site-packages (from transformers) (21.3)\n",
      "Requirement already satisfied: filelock in /opt/anaconda3/lib/python3.8/site-packages (from transformers) (3.0.12)\n",
      "Requirement already satisfied: tokenizers!=0.11.3,<0.13,>=0.11.1 in /opt/anaconda3/lib/python3.8/site-packages (from transformers) (0.12.1)\n",
      "Requirement already satisfied: numpy>=1.17 in /opt/anaconda3/lib/python3.8/site-packages (from transformers) (1.20.1)\n",
      "Requirement already satisfied: typing-extensions>=3.7.4.3 in /opt/anaconda3/lib/python3.8/site-packages (from huggingface-hub<1.0,>=0.1.0->transformers) (3.7.4.3)\n",
      "Requirement already satisfied: pyparsing!=3.0.5,>=2.0.2 in /opt/anaconda3/lib/python3.8/site-packages (from packaging>=20.0->transformers) (2.4.7)\n",
      "Requirement already satisfied: certifi>=2017.4.17 in /opt/anaconda3/lib/python3.8/site-packages (from requests->transformers) (2021.10.8)\n",
      "Requirement already satisfied: idna<3,>=2.5 in /opt/anaconda3/lib/python3.8/site-packages (from requests->transformers) (2.10)\n",
      "Requirement already satisfied: urllib3<1.27,>=1.21.1 in /opt/anaconda3/lib/python3.8/site-packages (from requests->transformers) (1.26.4)\n",
      "Requirement already satisfied: chardet<5,>=3.0.2 in /opt/anaconda3/lib/python3.8/site-packages (from requests->transformers) (4.0.0)\n"
     ]
    }
   ],
   "source": [
    "# Please install any packages you need in this cell\n",
    "# For example: !pip install sklearn\n",
    "\n",
    "!pip install sklearn\n",
    "!pip install --pre torch torchvision torchaudio --extra-index-url https://download.pytorch.org/whl/nightly/cpu\n",
    "!pip install transformers\n",
    "path_to_competition_folder = '/Users/williampham/Desktop/Competition'"
   ]
  },
  {
   "cell_type": "code",
   "execution_count": 2,
   "metadata": {},
   "outputs": [
    {
     "name": "stdout",
     "output_type": "stream",
     "text": [
      "Requirement already satisfied: tokenizers in /opt/anaconda3/lib/python3.8/site-packages (0.12.1)\n"
     ]
    }
   ],
   "source": [
    "!pip install tokenizers"
   ]
  },
  {
   "cell_type": "code",
   "execution_count": 3,
   "metadata": {
    "executionInfo": {
     "elapsed": 198,
     "status": "ok",
     "timestamp": 1652281282360,
     "user": {
      "displayName": "Ruben van Heusden",
      "userId": "02292024052020352966"
     },
     "user_tz": -120
    },
    "id": "Vu7IWWFQt2yn"
   },
   "outputs": [],
   "source": [
    "import os\n",
    "import json\n",
    "import numpy as np\n",
    "import pandas as pd\n",
    "import seaborn as sns\n",
    "import matplotlib.pyplot as plt\n",
    "from collections import defaultdict\n",
    "from IPython.display import display, Markdown\n",
    "\n",
    "# Metric import\n",
    "import metricutils\n",
    "\n",
    "# import any packages your code might need here\n",
    "# Put any imports here\n",
    "from tqdm import tqdm\n",
    "# import networkx as nx\n",
    "from sklearn.cluster import AgglomerativeClustering\n",
    "from sklearn.feature_extraction.text import CountVectorizer, TfidfVectorizer"
   ]
  },
  {
   "cell_type": "markdown",
   "metadata": {
    "id": "dyPVJ984hN_f"
   },
   "source": [
    "You will not have access to the test folder with the test data from both corpora, but you can test that your model will run properly with some samples that we have provided for you in the 'sample_data' directory."
   ]
  },
  {
   "cell_type": "markdown",
   "metadata": {},
   "source": [
    "## Adjusting paths\n",
    "\n",
    "Depending on where you put hour notebook relative to the data, you might have slighly different paths to the training and sample data. To ensure the code works, please adjust the path in the cell below to point to the 'Competition' folder. In this case of this notebook, the path is just one folder up, so '../'. You can use either absolute or relative paths."
   ]
  },
  {
   "cell_type": "code",
   "execution_count": 4,
   "metadata": {},
   "outputs": [],
   "source": [
    "path_to_competition_folder = '/Users/williampham/Desktop/Competition'"
   ]
  },
  {
   "cell_type": "code",
   "execution_count": 5,
   "metadata": {},
   "outputs": [],
   "source": [
    "import re\n",
    "import nltk\n",
    "# import pypdfium2\n",
    "# import pytesseract\n",
    "import numpy as np\n",
    "import pandas as pd\n",
    "\n",
    "import json\n",
    "import cv2\n",
    "import pandas as pd\n",
    "import numpy as np\n",
    "import seaborn as sns\n",
    "from collections import defaultdict\n",
    "try:\n",
    "    import torch\n",
    "    import torch.nn.functional as F\n",
    "except:\n",
    "    import torch\n",
    "    import torch.nn.functional as F\n",
    "\n",
    "try:\n",
    "    from transformers import AutoTokenizer\n",
    "except:\n",
    "    !pip install transformers\n",
    "    from transformers import AutoTokenizer\n",
    "\n",
    "%matplotlib inline\n",
    "\n",
    "from bs4 import BeautifulSoup\n",
    "from sklearn.feature_extraction.text import TfidfVectorizer"
   ]
  },
  {
   "cell_type": "code",
   "execution_count": 6,
   "metadata": {},
   "outputs": [
    {
     "data": {
      "text/plain": [
       "'1.13.0.dev20220611'"
      ]
     },
     "execution_count": 6,
     "metadata": {},
     "output_type": "execute_result"
    }
   ],
   "source": [
    "torch.device(\"mps\")\n",
    "torch.__version__"
   ]
  },
  {
   "cell_type": "code",
   "execution_count": 7,
   "metadata": {},
   "outputs": [],
   "source": [
    "import os\n",
    "import sys\n",
    "module_path = os.path.abspath(os.path.join('..'))\n",
    "if module_path not in sys.path:\n",
    "    sys.path.append(module_path)\n",
    "\n",
    "from networks.vgg_bert_custom import vgg_bert"
   ]
  },
  {
   "cell_type": "code",
   "execution_count": 8,
   "metadata": {},
   "outputs": [
    {
     "name": "stderr",
     "output_type": "stream",
     "text": [
      "Some weights of the model checkpoint at GroNLP/bert-base-dutch-cased were not used when initializing BertModel: ['cls.predictions.transform.dense.bias', 'cls.predictions.transform.LayerNorm.weight', 'cls.predictions.bias', 'cls.predictions.decoder.weight', 'cls.predictions.transform.LayerNorm.bias', 'cls.predictions.decoder.bias', 'cls.predictions.transform.dense.weight']\n",
      "- This IS expected if you are initializing BertModel from the checkpoint of a model trained on another task or with another architecture (e.g. initializing a BertForSequenceClassification model from a BertForPreTraining model).\n",
      "- This IS NOT expected if you are initializing BertModel from the checkpoint of a model that you expect to be exactly identical (initializing a BertForSequenceClassification model from a BertForSequenceClassification model).\n",
      "Some weights of BertModel were not initialized from the model checkpoint at GroNLP/bert-base-dutch-cased and are newly initialized: ['bert.pooler.dense.weight', 'bert.pooler.dense.bias']\n",
      "You should probably TRAIN this model on a down-stream task to be able to use it for predictions and inference.\n"
     ]
    }
   ],
   "source": [
    "feature_length = 1024\n",
    "device = torch.device('cpu')\n",
    "\n",
    "model_bert = vgg_bert(in_ch=3, out_ch=2)\n",
    "model_bert = model_bert.to(device)\n",
    "\n",
    "model_bert = torch.nn.DataParallel(model_bert)\n",
    "\n",
    "weight = torch.load('models/focal_bert_newdata_100/best_val_loss.pt', map_location=device)\n",
    "model_bert.load_state_dict(weight, strict=True)\n",
    "\n",
    "bert_tokenizer = AutoTokenizer.from_pretrained(\"GroNLP/bert-base-dutch-cased\", revision=\"v1\")"
   ]
  },
  {
   "cell_type": "code",
   "execution_count": 9,
   "metadata": {
    "executionInfo": {
     "elapsed": 220,
     "status": "ok",
     "timestamp": 1652281449524,
     "user": {
      "displayName": "Ruben van Heusden",
      "userId": "02292024052020352966"
     },
     "user_tz": -120
    },
    "id": "a5KocCpLkrlv"
   },
   "outputs": [],
   "source": [
    "# This function can be used to load the pdf file names, gold standard json and the text dataframe\n",
    "def tokenize_text(text):\n",
    "    tokens = []\n",
    "    for sent in nltk.sent_tokenize(text):\n",
    "        for word in nltk.word_tokenize(sent):\n",
    "            if len(word) < 2:\n",
    "                continue\n",
    "            tokens.append(word.lower())\n",
    "    return tokens\n",
    "\n",
    "def get_bert_tokenizer(text):\n",
    "    bert_input = bert_tokenizer(text, padding='max_length', max_length=256,\n",
    "                               truncation=True, return_tensors=\"pt\")\n",
    "    _id = bert_input['input_ids']\n",
    "    _mask = bert_input['attention_mask']\n",
    "    return _id, _mask\n",
    "\n",
    "def tag_page(prediction):\n",
    "    \"\"\"\n",
    "    :param prediction: classify prediction array: e.g [1, 0, 0, 1, 0, 0, 1, 0, 1]\n",
    "    :return: tag page: e.g. [3, 3, 2, 1]\n",
    "    \"\"\"\n",
    "    tag = np.split(prediction, np.argwhere(prediction == 1).flatten())\n",
    "    tag = [len(tag[i]) for i in range(len(tag)) if len(tag[i])]\n",
    "    tag = np.array(tag)\n",
    "\n",
    "    return tag\n",
    "\n",
    "def cleanText(text):\n",
    "    text = BeautifulSoup(text, \"html.parser\").text\n",
    "    text = re.sub(r'\\|\\|\\|', r' ', text)\n",
    "    text = re.sub(r'\\\\n', r' ', text)\n",
    "    text = re.sub(r'http\\S+', r'<URL>', text)\n",
    "    text = text.lower()\n",
    "    text = text.replace('x', '')\n",
    "    return text\n",
    "\n",
    "def resize_normalize_image(image, img_size=224):\n",
    "    height, width, _ = image.shape\n",
    "    if height > width:\n",
    "        scale = img_size / height\n",
    "        resized_height = img_size\n",
    "        resized_width = int(width * scale)\n",
    "    else:\n",
    "        scale = img_size / width\n",
    "        resized_height = int(height * scale)\n",
    "        resized_width = img_size\n",
    "\n",
    "    image = cv2.resize(image, (resized_width, resized_height), interpolation=cv2.INTER_LINEAR)\n",
    "\n",
    "    new_image = np.zeros((img_size, img_size, image.shape[2]))\n",
    "\n",
    "    offset_w = (img_size - resized_width) // 2\n",
    "    offset_h = (img_size - resized_height) // 2\n",
    "    new_image[offset_h:offset_h + resized_height, offset_w:offset_w + resized_width] = image\n",
    "    return new_image/255.0\n",
    "\n",
    "\n",
    "def get_data(data_path, train=True):\n",
    "    \"\"\"\n",
    "    This function takes as input the path to either train_data or test_data, and combines\n",
    "    the information present in the corpus1 and corpus2 subfolders to allow\n",
    "    you to train on the all the data. the output is a dict containing the dataframe with the text,\n",
    "    and a 'png' column to the path of the png files belonging to each file. It also contains the gold standard in\n",
    "    binary vector format.\n",
    "    \n",
    "    \"\"\"\n",
    "    if train:\n",
    "        gold_standard_path = '%s/Doclengths_of_the_individual_docs_TRAIN.json' % data_path\n",
    "    else:\n",
    "        gold_standard_path = '%s/Doclengths_of_the_individual_docs_TEST.json' % data_path       \n",
    "    \n",
    "    dataframe = pd.read_csv('%s/ocred_text.csv.gz' % data_path)\n",
    "    with open(gold_standard_path, 'r') as json_file:\n",
    "        gold_json = json.load(json_file)\n",
    "    \n",
    "    # Add the png column\n",
    "    png_column = dataframe['name'] + '-' + dataframe['page'].astype(str) + '.png'\n",
    "    \n",
    "    # Make sure it points to the correct path\n",
    "    png_column_joined = os.path.join(data_path, 'png') + os.sep + png_column\n",
    "    dataframe['png'] = png_column_joined\n",
    "    \n",
    "    binary_gold = {key: metricutils.length_list_to_bin(val) for key, val in gold_json.items()}\n",
    "    # oh\n",
    "\n",
    "    return {'csv': dataframe.sort_values(by=['name', 'page']), 'json': binary_gold}\n",
    "\n",
    "\n",
    "def get_train_data(data_path):\n",
    "    \"\"\"\n",
    "    This function takes as input the path to 'train_data' and combined\n",
    "    the information present in the corpus1 and corpus2 subfolders to allow\n",
    "    you to train on the all the data.\n",
    "    \"\"\"\n",
    "  # We train on both corpus 1 and corpus 2\n",
    "    c1_path = os.path.join(data_path, 'corpus1')\n",
    "    c2_path = os.path.join(data_path, 'corpus2')\n",
    "        \n",
    "        \n",
    "    c1_data = get_data(c1_path, train=True)\n",
    "    c2_data = get_data(c2_path, train=True)\n",
    "\n",
    "    combined_dataframe = pd.concat([c1_data['csv'], c2_data['csv']])\n",
    "    combined_json = {**c1_data['json'], **c2_data['json']}\n",
    "    combined_pdfs = c1_data['pdf'] + c2_data['pdf']\n",
    "    \n",
    "    return {'csv': combined_dataframe.sort_values(by=['name', 'page']), 'json': combined_json}\n",
    "\n",
    "def data_loader(df):\n",
    "    df.fillna('', inplace=True)\n",
    "    df['text_processed'] = df['text'].apply(cleanText)\n",
    "    path = df['png'].tolist()\n",
    "    text = df['text_processed'].tolist()\n",
    "    # labels = df['labels']\n",
    "    # label = df['labels'].tolist()\n",
    "    return path, text\n",
    "\n",
    "def get_sample_data(data_path):\n",
    "    \"\"\"\n",
    "    This function takes as input the path to the 'sample_data' folder,\n",
    "    and outputs a dictionary with the text dataframe, the gold standard json and\n",
    "    the paths to the pds.\n",
    "    \"\"\"\n",
    "    dataframe = pd.read_csv('%s/sample.csv' % data_path)\n",
    "\n",
    "    dataframe.fillna('', inplace=True)\n",
    "    dataframe['text_processed'] = dataframe['text'].apply(cleanText)\n",
    "\n",
    "    with open('%s/sample.json' % data_path, 'r') as json_file:\n",
    "        gold_json = json.load(json_file)\n",
    "\n",
    "    # Add the png column\n",
    "    png_column = dataframe['name'] + '-' + dataframe['page'].astype(str) + '.png'\n",
    "    \n",
    "    # Make sure it points to the correct path\n",
    "    png_column_joined = os.path.join(data_path, 'png') + os.sep + png_column\n",
    "    dataframe['png'] = png_column_joined\n",
    "        \n",
    "    binary_gold = {key: metricutils.length_list_to_bin(val) for key, val in gold_json.items()}\n",
    "\n",
    "    return {'csv': dataframe.sort_values(by=['name', 'page']), 'json': binary_gold}"
   ]
  },
  {
   "cell_type": "markdown",
   "metadata": {
    "id": "rxrdbP2HvWVK"
   },
   "source": [
    "## Setting up the model"
   ]
  },
  {
   "cell_type": "markdown",
   "metadata": {
    "id": "q5DHEbynvcee"
   },
   "source": [
    "Unless you are loading in a trained model, this is where you want to insert the code to train your model."
   ]
  },
  {
   "cell_type": "markdown",
   "metadata": {},
   "source": [
    "The data is provided as a dictionary with three entries: `{'csv': _, 'json'}`.csv contains the loaded in csv file, json contains the gold standard json in binary format."
   ]
  },
  {
   "cell_type": "markdown",
   "metadata": {
    "id": "DcRNpniG6Yfz"
   },
   "source": [
    "We are going to follow an approach that is similar to that of SKLearn, where you make a model that has `train` and `predict` functions. The function to score a modle will be provided by us."
   ]
  },
  {
   "cell_type": "markdown",
   "metadata": {
    "id": "A2CxWw569yNo"
   },
   "source": [
    "Please also read the `Evaluation` notebook on the surdrive carefully, it shows how the metrics are calculated and what your format should be. Your model should return a dictionary where each key is the document ID and the value is the stream in binary vector format."
   ]
  },
  {
   "cell_type": "code",
   "execution_count": 10,
   "metadata": {
    "id": "TBndsqNBqdwc"
   },
   "outputs": [],
   "source": [
    "# we already got the model trained, so deleted this part"
   ]
  },
  {
   "cell_type": "markdown",
   "metadata": {},
   "source": [
    "## Training the model (optional)"
   ]
  },
  {
   "cell_type": "markdown",
   "metadata": {},
   "source": [
    "If your model requires trainin you can put this boolean to true. If not, you can leave it as-is."
   ]
  },
  {
   "cell_type": "code",
   "execution_count": 11,
   "metadata": {},
   "outputs": [],
   "source": [
    "# no need for training"
   ]
  },
  {
   "cell_type": "markdown",
   "metadata": {
    "id": "n9DqXlYQr3Aw"
   },
   "source": [
    "## Checking the model"
   ]
  },
  {
   "cell_type": "markdown",
   "metadata": {},
   "source": [
    "For this we will make a prediction with the model on the sample data, and see how whether it works and gives us some scores. Please also add a descriptive name of your model below (preferably also containing your name), this will be used as a title of the plots shown on the test sets, and helps us keep it clear which plots came from which models."
   ]
  },
  {
   "cell_type": "code",
   "execution_count": 12,
   "metadata": {},
   "outputs": [],
   "source": [
    "short_model_description = \"VGG-BERT\""
   ]
  },
  {
   "cell_type": "code",
   "execution_count": 13,
   "metadata": {
    "id": "3pfWdyOxr42g"
   },
   "outputs": [],
   "source": [
    "run_on_test = False"
   ]
  },
  {
   "cell_type": "code",
   "execution_count": 14,
   "metadata": {},
   "outputs": [],
   "source": [
    "from tqdm import tqdm\n",
    "\n",
    "class Prediction():\n",
    "    def __init__(self, path, text):\n",
    "        self.path = path\n",
    "        self.text = text\n",
    "        self.output = []\n",
    "\n",
    "    def run_batch(self):\n",
    "        result = []\n",
    "        for i in tqdm(range(len(self.path))):\n",
    "            fname = self.path[i]\n",
    "            image = cv2.imread(fname)\n",
    "            text = self.text[i]\n",
    "            predict = self.run_single(image, text)\n",
    "            result.append(predict)\n",
    "        result = np.array(result)\n",
    "        return result\n",
    "\n",
    "\n",
    "    def run_single(self, image, text):\n",
    "        b_id, b_mask = get_bert_tokenizer(text)\n",
    "        b_id = b_id.to(device)\n",
    "        b_mask = b_mask.to(device)\n",
    "        \n",
    "        image = resize_normalize_image(image)\n",
    "        image = torch.from_numpy(image).float()\n",
    "        image = torch.unsqueeze(image, dim=0)\n",
    "        image = image.permute(0, 3, 1, 2)\n",
    "        image = image.to(device)\n",
    "        \n",
    "        with torch.no_grad():\n",
    "            prediction = model_bert(image, b_id, b_mask)\n",
    "            prediction = F.softmax(prediction, dim=1)\n",
    "            prediction = torch.argmax(prediction, dim=1)\n",
    "            \n",
    "        prediction = prediction.cpu().numpy()\n",
    "        return float(prediction.item())"
   ]
  },
  {
   "cell_type": "code",
   "execution_count": 15,
   "metadata": {},
   "outputs": [
    {
     "name": "stderr",
     "output_type": "stream",
     "text": [
      "<ipython-input-9-1597260ae351>:111: SettingWithCopyWarning: \n",
      "A value is trying to be set on a copy of a slice from a DataFrame\n",
      "\n",
      "See the caveats in the documentation: https://pandas.pydata.org/pandas-docs/stable/user_guide/indexing.html#returning-a-view-versus-a-copy\n",
      "  df.fillna('', inplace=True)\n",
      "<ipython-input-9-1597260ae351>:112: SettingWithCopyWarning: \n",
      "A value is trying to be set on a copy of a slice from a DataFrame.\n",
      "Try using .loc[row_indexer,col_indexer] = value instead\n",
      "\n",
      "See the caveats in the documentation: https://pandas.pydata.org/pandas-docs/stable/user_guide/indexing.html#returning-a-view-versus-a-copy\n",
      "  df['text_processed'] = df['text'].apply(cleanText)\n",
      "100%|██████████| 58/58 [00:40<00:00,  1.45it/s]\n",
      "100%|██████████| 249/249 [02:56<00:00,  1.41it/s]\n"
     ]
    }
   ],
   "source": [
    "data = get_sample_data(os.path.join(path_to_competition_folder, 'sample_data'))\n",
    "df = data['csv']\n",
    "keys = list(df['name'].unique())\n",
    "\n",
    "predictions = {}\n",
    "for k in keys:\n",
    "    sm_df = df[df['name'] == k]\n",
    "    path, text = data_loader(sm_df)\n",
    "    model_predict = Prediction(path=path, text=text)\n",
    "    prediction = model_predict.run_batch()\n",
    "    predictions[k] = prediction\n",
    "    \n"
   ]
  },
  {
   "cell_type": "code",
   "execution_count": 16,
   "metadata": {},
   "outputs": [
    {
     "data": {
      "text/plain": [
       "{'892231__concatenated': array([1., 0., 0., 0., 0., 0., 1., 0., 0., 0., 0., 0., 0., 0., 0., 0., 0.,\n",
       "        0., 0., 0., 0., 0., 0., 0., 0., 0., 0., 0., 0., 0., 0., 0., 0., 0.,\n",
       "        1., 0., 0., 0., 1., 0., 1., 0., 1., 0., 1., 0., 1., 0., 1., 0., 1.,\n",
       "        0., 1., 1., 1., 0., 0., 0.]),\n",
       " '963330_bijlagen.zip__concatenated': array([1., 0., 0., 0., 0., 1., 0., 0., 0., 0., 0., 0., 0., 0., 0., 0., 0.,\n",
       "        0., 0., 0., 0., 0., 0., 0., 0., 0., 0., 0., 0., 0., 0., 0., 0., 0.,\n",
       "        0., 0., 0., 0., 0., 0., 0., 0., 0., 0., 0., 0., 0., 0., 0., 0., 0.,\n",
       "        0., 0., 0., 0., 1., 0., 0., 0., 0., 0., 0., 0., 0., 0., 0., 0., 0.,\n",
       "        1., 0., 0., 0., 0., 0., 0., 0., 1., 0., 0., 0., 0., 0., 0., 0., 0.,\n",
       "        0., 0., 0., 0., 0., 0., 0., 0., 0., 0., 0., 0., 0., 0., 0., 0., 0.,\n",
       "        0., 0., 0., 0., 0., 0., 0., 0., 0., 0., 0., 0., 0., 0., 0., 0., 0.,\n",
       "        0., 0., 0., 0., 0., 0., 0., 0., 0., 0., 0., 0., 0., 0., 0., 0., 0.,\n",
       "        0., 0., 0., 0., 0., 0., 0., 0., 0., 0., 0., 0., 0., 0., 0., 0., 0.,\n",
       "        0., 0., 0., 1., 0., 0., 0., 0., 0., 0., 0., 0., 0., 0., 0., 0., 1.,\n",
       "        0., 0., 0., 0., 0., 0., 0., 0., 0., 0., 1., 0., 0., 0., 0., 0., 0.,\n",
       "        0., 0., 0., 0., 0., 1., 1., 0., 0., 0., 1., 0., 0., 0., 0., 0., 0.,\n",
       "        0., 1., 1., 0., 0., 1., 1., 0., 0., 0., 0., 0., 0., 1., 0., 0., 0.,\n",
       "        0., 0., 0., 0., 0., 0., 0., 0., 0., 0., 0., 0., 0., 0., 1., 0., 1.,\n",
       "        0., 1., 0., 0., 0., 0., 0., 0., 0., 0., 0.])}"
      ]
     },
     "execution_count": 16,
     "metadata": {},
     "output_type": "execute_result"
    }
   ],
   "source": [
    "predictions"
   ]
  },
  {
   "cell_type": "code",
   "execution_count": 17,
   "metadata": {},
   "outputs": [
    {
     "data": {
      "text/markdown": [
       "<b>Scores for the model on the sample data</b>"
      ],
      "text/plain": [
       "<IPython.core.display.Markdown object>"
      ]
     },
     "metadata": {},
     "output_type": "display_data"
    },
    {
     "data": {
      "text/markdown": [
       "<b> Mean scores of the evaluation metrics for VGG-BERT </b>"
      ],
      "text/plain": [
       "<IPython.core.display.Markdown object>"
      ]
     },
     "metadata": {},
     "output_type": "display_data"
    },
    {
     "data": {
      "text/html": [
       "<div>\n",
       "<style scoped>\n",
       "    .dataframe tbody tr th:only-of-type {\n",
       "        vertical-align: middle;\n",
       "    }\n",
       "\n",
       "    .dataframe tbody tr th {\n",
       "        vertical-align: top;\n",
       "    }\n",
       "\n",
       "    .dataframe thead th {\n",
       "        text-align: right;\n",
       "    }\n",
       "</style>\n",
       "<table border=\"1\" class=\"dataframe\">\n",
       "  <thead>\n",
       "    <tr style=\"text-align: right;\">\n",
       "      <th></th>\n",
       "      <th>precision</th>\n",
       "      <th>recall</th>\n",
       "      <th>F1</th>\n",
       "      <th>support</th>\n",
       "      <th>CI Precision</th>\n",
       "      <th>CI Recall</th>\n",
       "      <th>CI F1</th>\n",
       "    </tr>\n",
       "  </thead>\n",
       "  <tbody>\n",
       "    <tr>\n",
       "      <th>Boundary</th>\n",
       "      <td>0.46</td>\n",
       "      <td>0.94</td>\n",
       "      <td>0.50</td>\n",
       "      <td>19.0</td>\n",
       "      <td>0.29-0.63</td>\n",
       "      <td>0.86-1.02</td>\n",
       "      <td>0.33-0.67</td>\n",
       "    </tr>\n",
       "    <tr>\n",
       "      <th>Bcubed</th>\n",
       "      <td>1.00</td>\n",
       "      <td>0.54</td>\n",
       "      <td>0.62</td>\n",
       "      <td>19.0</td>\n",
       "      <td>1.0-1.0</td>\n",
       "      <td>0.37-0.71</td>\n",
       "      <td>0.45-0.79</td>\n",
       "    </tr>\n",
       "    <tr>\n",
       "      <th>WindowDiff</th>\n",
       "      <td>0.32</td>\n",
       "      <td>0.32</td>\n",
       "      <td>0.32</td>\n",
       "      <td>19.0</td>\n",
       "      <td>0.16-0.48</td>\n",
       "      <td>0.16-0.48</td>\n",
       "      <td>0.16-0.48</td>\n",
       "    </tr>\n",
       "    <tr>\n",
       "      <th>Block</th>\n",
       "      <td>0.32</td>\n",
       "      <td>0.33</td>\n",
       "      <td>0.32</td>\n",
       "      <td>19.0</td>\n",
       "      <td>0.16-0.48</td>\n",
       "      <td>0.17-0.49</td>\n",
       "      <td>0.16-0.48</td>\n",
       "    </tr>\n",
       "    <tr>\n",
       "      <th>Weighted Block</th>\n",
       "      <td>0.37</td>\n",
       "      <td>0.39</td>\n",
       "      <td>0.38</td>\n",
       "      <td>19.0</td>\n",
       "      <td>0.2-0.54</td>\n",
       "      <td>0.22-0.56</td>\n",
       "      <td>0.21-0.55</td>\n",
       "    </tr>\n",
       "  </tbody>\n",
       "</table>\n",
       "</div>"
      ],
      "text/plain": [
       "                precision  recall    F1  support CI Precision  CI Recall  \\\n",
       "Boundary             0.46    0.94  0.50     19.0    0.29-0.63  0.86-1.02   \n",
       "Bcubed               1.00    0.54  0.62     19.0      1.0-1.0  0.37-0.71   \n",
       "WindowDiff           0.32    0.32  0.32     19.0    0.16-0.48  0.16-0.48   \n",
       "Block                0.32    0.33  0.32     19.0    0.16-0.48  0.17-0.49   \n",
       "Weighted Block       0.37    0.39  0.38     19.0     0.2-0.54  0.22-0.56   \n",
       "\n",
       "                    CI F1  \n",
       "Boundary        0.33-0.67  \n",
       "Bcubed          0.45-0.79  \n",
       "WindowDiff      0.16-0.48  \n",
       "Block           0.16-0.48  \n",
       "Weighted Block  0.21-0.55  "
      ]
     },
     "metadata": {},
     "output_type": "display_data"
    },
    {
     "data": {
      "text/markdown": [
       "<b> KDE Plots of the scores of the evaluation metrics for VGG-BERT </b>"
      ],
      "text/plain": [
       "<IPython.core.display.Markdown object>"
      ]
     },
     "metadata": {},
     "output_type": "display_data"
    },
    {
     "data": {
      "image/png": "[encoded data removed]",
      "text/plain": [
       "<Figure size 864x288 with 3 Axes>"
      ]
     },
     "metadata": {
      "needs_background": "light"
     },
     "output_type": "display_data"
    }
   ],
   "source": [
    "if run_on_test:\n",
    "    pass\n",
    "    # we don't use run on test\n",
    "else:\n",
    "    display(Markdown(\"<b>Scores for the model on the sample data</b>\"))\n",
    "    metricutils.evaluation_report(data['json'], predictions, title=short_model_description)"
   ]
  },
  {
   "cell_type": "code",
   "execution_count": null,
   "metadata": {},
   "outputs": [],
   "source": []
  }
 ],
 "metadata": {
  "colab": {
   "authorship_tag": "ABX9TyO31tkava5l0E+vsk+jHNvg",
   "collapsed_sections": [],
   "mount_file_id": "1EYIZemYSfPdd-ieKytv5jPwxRenXbfqn",
   "name": "SubmitRun.ipynb",
   "provenance": []
  },
  "interpreter": {
   "hash": "258a5d76ef2b9f7f35f76a4dd70b01132764364364314eda173d4432b108697f"
  },
  "kernelspec": {
   "display_name": "Python 3",
   "language": "python",
   "name": "python3"
  },
  "language_info": {
   "codemirror_mode": {
    "name": "ipython",
    "version": 3
   },
   "file_extension": ".py",
   "mimetype": "text/x-python",
   "name": "python",
   "nbconvert_exporter": "python",
   "pygments_lexer": "ipython3",
   "version": "3.8.8"
  }
 },
 "nbformat": 4,
 "nbformat_minor": 4
}
