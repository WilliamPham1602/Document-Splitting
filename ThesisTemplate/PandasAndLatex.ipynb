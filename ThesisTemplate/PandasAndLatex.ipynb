{
 "cells": [
  {
   "cell_type": "code",
   "execution_count": 1,
   "metadata": {
    "collapsed": false
   },
   "outputs": [
    {
     "name": "stdout",
     "output_type": "stream",
     "text": [
      "Samsom-2 Pechtold-3 Kuzu-1\n"
     ]
    }
   ],
   "source": [
    "%matplotlib inline\n",
    "import pandas as pd\n",
    "\n",
    "from  more_itertools import unique_everseen\n",
    "from collections import Counter\n",
    "\n",
    "\n",
    "def make_nice_string(s):\n",
    "    N= s.split('-')\n",
    "    NU= list(unique_everseen(N))\n",
    "    NC= Counter(N)\n",
    "    NN = [p+'-'+str(NC[p]) for p in NU if p !='']\n",
    "    return ' '.join(NN)\n",
    "#test\n",
    "s= 'Samsom-Samsom-Pechtold-Pechtold-Pechtold-Kuzu-'\n",
    "print make_nice_string(s)\n"
   ]
  },
  {
   "cell_type": "code",
   "execution_count": 2,
   "metadata": {
    "collapsed": true
   },
   "outputs": [],
   "source": [
    "df = pd.read_csv('Interruptors_van_Wilders.csv', index_col='date', encoding='utf-8')"
   ]
  },
  {
   "cell_type": "code",
   "execution_count": 3,
   "metadata": {
    "collapsed": false
   },
   "outputs": [
    {
     "data": {
      "text/html": [
       "<div>\n",
       "<table border=\"1\" class=\"dataframe\">\n",
       "  <thead>\n",
       "    <tr style=\"text-align: right;\">\n",
       "      <th></th>\n",
       "      <th>termijn</th>\n",
       "      <th>spreker</th>\n",
       "      <th>rol</th>\n",
       "      <th>indegree</th>\n",
       "      <th>aantal_interrupts</th>\n",
       "      <th>interruptors</th>\n",
       "      <th>interruptie_volgorde</th>\n",
       "      <th>OnderwerpDebat</th>\n",
       "      <th>url</th>\n",
       "      <th>aantal_interrupts_mean</th>\n",
       "      <th>...</th>\n",
       "      <th>Samsom</th>\n",
       "      <th>Segers</th>\n",
       "      <th>Slob</th>\n",
       "      <th>Thieme</th>\n",
       "      <th>Van Haersma Buma</th>\n",
       "      <th>Van Ojik</th>\n",
       "      <th>Van der Staaij</th>\n",
       "      <th>Voordewind</th>\n",
       "      <th>Zijlstra</th>\n",
       "      <th>Öztürk</th>\n",
       "    </tr>\n",
       "    <tr>\n",
       "      <th>date</th>\n",
       "      <th></th>\n",
       "      <th></th>\n",
       "      <th></th>\n",
       "      <th></th>\n",
       "      <th></th>\n",
       "      <th></th>\n",
       "      <th></th>\n",
       "      <th></th>\n",
       "      <th></th>\n",
       "      <th></th>\n",
       "      <th></th>\n",
       "      <th></th>\n",
       "      <th></th>\n",
       "      <th></th>\n",
       "      <th></th>\n",
       "      <th></th>\n",
       "      <th></th>\n",
       "      <th></th>\n",
       "      <th></th>\n",
       "      <th></th>\n",
       "      <th></th>\n",
       "    </tr>\n",
       "  </thead>\n",
       "  <tbody>\n",
       "    <tr>\n",
       "      <th>20122013-03-08</th>\n",
       "      <td>1</td>\n",
       "      <td>Wilders</td>\n",
       "      <td>De heer</td>\n",
       "      <td>0.0</td>\n",
       "      <td>0</td>\n",
       "      <td>{}</td>\n",
       "      <td>NaN</td>\n",
       "      <td>Debat verkiezingsuitslag</td>\n",
       "      <td>https://zoek.officielebekendmakingen.nl/h-tk-2...</td>\n",
       "      <td>8.416667</td>\n",
       "      <td>...</td>\n",
       "      <td>NaN</td>\n",
       "      <td>NaN</td>\n",
       "      <td>NaN</td>\n",
       "      <td>NaN</td>\n",
       "      <td>NaN</td>\n",
       "      <td>NaN</td>\n",
       "      <td>NaN</td>\n",
       "      <td>NaN</td>\n",
       "      <td>NaN</td>\n",
       "      <td>NaN</td>\n",
       "    </tr>\n",
       "    <tr>\n",
       "      <th>20122013-07-16</th>\n",
       "      <td>1</td>\n",
       "      <td>Wilders</td>\n",
       "      <td>De heer</td>\n",
       "      <td>0.0</td>\n",
       "      <td>0</td>\n",
       "      <td>{}</td>\n",
       "      <td>NaN</td>\n",
       "      <td>Deelakkoord begroting 2013</td>\n",
       "      <td>https://zoek.officielebekendmakingen.nl/h-tk-2...</td>\n",
       "      <td>7.153846</td>\n",
       "      <td>...</td>\n",
       "      <td>NaN</td>\n",
       "      <td>NaN</td>\n",
       "      <td>NaN</td>\n",
       "      <td>NaN</td>\n",
       "      <td>NaN</td>\n",
       "      <td>NaN</td>\n",
       "      <td>NaN</td>\n",
       "      <td>NaN</td>\n",
       "      <td>NaN</td>\n",
       "      <td>NaN</td>\n",
       "    </tr>\n",
       "    <tr>\n",
       "      <th>20122013-100-03</th>\n",
       "      <td>1</td>\n",
       "      <td>Wilders</td>\n",
       "      <td>De heer</td>\n",
       "      <td>0.0</td>\n",
       "      <td>0</td>\n",
       "      <td>{}</td>\n",
       "      <td>NaN</td>\n",
       "      <td>Aanbevelingen Europese Commissie extra bezuini...</td>\n",
       "      <td>https://zoek.officielebekendmakingen.nl/h-tk-2...</td>\n",
       "      <td>9.727273</td>\n",
       "      <td>...</td>\n",
       "      <td>NaN</td>\n",
       "      <td>NaN</td>\n",
       "      <td>NaN</td>\n",
       "      <td>NaN</td>\n",
       "      <td>NaN</td>\n",
       "      <td>NaN</td>\n",
       "      <td>NaN</td>\n",
       "      <td>NaN</td>\n",
       "      <td>NaN</td>\n",
       "      <td>NaN</td>\n",
       "    </tr>\n",
       "    <tr>\n",
       "      <th>20122013-100-06</th>\n",
       "      <td>1</td>\n",
       "      <td>Wilders</td>\n",
       "      <td>De heer</td>\n",
       "      <td>0.0</td>\n",
       "      <td>0</td>\n",
       "      <td>{}</td>\n",
       "      <td>NaN</td>\n",
       "      <td>Aanbevelingen Europese Commissie bezuinigingen</td>\n",
       "      <td>https://zoek.officielebekendmakingen.nl/h-tk-2...</td>\n",
       "      <td>1.909091</td>\n",
       "      <td>...</td>\n",
       "      <td>NaN</td>\n",
       "      <td>NaN</td>\n",
       "      <td>NaN</td>\n",
       "      <td>NaN</td>\n",
       "      <td>NaN</td>\n",
       "      <td>NaN</td>\n",
       "      <td>NaN</td>\n",
       "      <td>NaN</td>\n",
       "      <td>NaN</td>\n",
       "      <td>NaN</td>\n",
       "    </tr>\n",
       "    <tr>\n",
       "      <th>20122013-17-06</th>\n",
       "      <td>1</td>\n",
       "      <td>Wilders</td>\n",
       "      <td>De heer</td>\n",
       "      <td>1.0</td>\n",
       "      <td>3</td>\n",
       "      <td>{u'Pechtold': 3}</td>\n",
       "      <td>Pechtold-Pechtold-Pechtold</td>\n",
       "      <td>Eindverslag informateurs</td>\n",
       "      <td>https://zoek.officielebekendmakingen.nl/h-tk-2...</td>\n",
       "      <td>0.555556</td>\n",
       "      <td>...</td>\n",
       "      <td>0.0</td>\n",
       "      <td>0.0</td>\n",
       "      <td>0.0</td>\n",
       "      <td>0.0</td>\n",
       "      <td>0.0</td>\n",
       "      <td>0.0</td>\n",
       "      <td>0.0</td>\n",
       "      <td>0.0</td>\n",
       "      <td>0.0</td>\n",
       "      <td>0.0</td>\n",
       "    </tr>\n",
       "  </tbody>\n",
       "</table>\n",
       "<p>5 rows × 29 columns</p>\n",
       "</div>"
      ],
      "text/plain": [
       "                 termijn  spreker      rol  indegree  aantal_interrupts  \\\n",
       "date                                                                      \n",
       "20122013-03-08         1  Wilders  De heer       0.0                  0   \n",
       "20122013-07-16         1  Wilders  De heer       0.0                  0   \n",
       "20122013-100-03        1  Wilders  De heer       0.0                  0   \n",
       "20122013-100-06        1  Wilders  De heer       0.0                  0   \n",
       "20122013-17-06         1  Wilders  De heer       1.0                  3   \n",
       "\n",
       "                     interruptors        interruptie_volgorde  \\\n",
       "date                                                            \n",
       "20122013-03-08                 {}                         NaN   \n",
       "20122013-07-16                 {}                         NaN   \n",
       "20122013-100-03                {}                         NaN   \n",
       "20122013-100-06                {}                         NaN   \n",
       "20122013-17-06   {u'Pechtold': 3}  Pechtold-Pechtold-Pechtold   \n",
       "\n",
       "                                                    OnderwerpDebat  \\\n",
       "date                                                                 \n",
       "20122013-03-08                            Debat verkiezingsuitslag   \n",
       "20122013-07-16                          Deelakkoord begroting 2013   \n",
       "20122013-100-03  Aanbevelingen Europese Commissie extra bezuini...   \n",
       "20122013-100-06     Aanbevelingen Europese Commissie bezuinigingen   \n",
       "20122013-17-06                            Eindverslag informateurs   \n",
       "\n",
       "                                                               url  \\\n",
       "date                                                                 \n",
       "20122013-03-08   https://zoek.officielebekendmakingen.nl/h-tk-2...   \n",
       "20122013-07-16   https://zoek.officielebekendmakingen.nl/h-tk-2...   \n",
       "20122013-100-03  https://zoek.officielebekendmakingen.nl/h-tk-2...   \n",
       "20122013-100-06  https://zoek.officielebekendmakingen.nl/h-tk-2...   \n",
       "20122013-17-06   https://zoek.officielebekendmakingen.nl/h-tk-2...   \n",
       "\n",
       "                 aantal_interrupts_mean   ...    Samsom  Segers  Slob  Thieme  \\\n",
       "date                                      ...                                   \n",
       "20122013-03-08                 8.416667   ...       NaN     NaN   NaN     NaN   \n",
       "20122013-07-16                 7.153846   ...       NaN     NaN   NaN     NaN   \n",
       "20122013-100-03                9.727273   ...       NaN     NaN   NaN     NaN   \n",
       "20122013-100-06                1.909091   ...       NaN     NaN   NaN     NaN   \n",
       "20122013-17-06                 0.555556   ...       0.0     0.0   0.0     0.0   \n",
       "\n",
       "                 Van Haersma Buma  Van Ojik  Van der Staaij  Voordewind  \\\n",
       "date                                                                      \n",
       "20122013-03-08                NaN       NaN             NaN         NaN   \n",
       "20122013-07-16                NaN       NaN             NaN         NaN   \n",
       "20122013-100-03               NaN       NaN             NaN         NaN   \n",
       "20122013-100-06               NaN       NaN             NaN         NaN   \n",
       "20122013-17-06                0.0       0.0             0.0         0.0   \n",
       "\n",
       "                 Zijlstra  Öztürk  \n",
       "date                               \n",
       "20122013-03-08        NaN     NaN  \n",
       "20122013-07-16        NaN     NaN  \n",
       "20122013-100-03       NaN     NaN  \n",
       "20122013-100-06       NaN     NaN  \n",
       "20122013-17-06        0.0     0.0  \n",
       "\n",
       "[5 rows x 29 columns]"
      ]
     },
     "execution_count": 3,
     "metadata": {},
     "output_type": "execute_result"
    }
   ],
   "source": [
    "df.head()"
   ]
  },
  {
   "cell_type": "markdown",
   "metadata": {},
   "source": [
    "# Saving a plot to a png figure"
   ]
  },
  {
   "cell_type": "code",
   "execution_count": 4,
   "metadata": {
    "collapsed": false
   },
   "outputs": [
    {
     "name": "stdout",
     "output_type": "stream",
     "text": [
      "-rw-r--r--  1 admin  staff  29707 May 30 16:04 WildersPlot.png\r\n"
     ]
    },
    {
     "data": {
      "image/png": "[encoded data removed]",
      "text/plain": [
       "<matplotlib.figure.Figure at 0x1038d8710>"
      ]
     },
     "metadata": {},
     "output_type": "display_data"
    }
   ],
   "source": [
    "plot= df.indegree.plot(figsize=(15,6), title='Aantal kamerleden die Wilders interrumpeerden per debat')\n",
    "fig = plot.get_figure()\n",
    "fig.savefig('WildersPlot.png')\n",
    "!ls -l WildersPlot.png"
   ]
  },
  {
   "cell_type": "markdown",
   "metadata": {},
   "source": [
    "# Saving a dataframe to a Latex table"
   ]
  },
  {
   "cell_type": "code",
   "execution_count": 5,
   "metadata": {
    "collapsed": false
   },
   "outputs": [
    {
     "data": {
      "text/html": [
       "<div>\n",
       "<table border=\"1\" class=\"dataframe\">\n",
       "  <thead>\n",
       "    <tr style=\"text-align: right;\">\n",
       "      <th></th>\n",
       "      <th>indegree</th>\n",
       "      <th>interruptie_volgorde</th>\n",
       "    </tr>\n",
       "    <tr>\n",
       "      <th>date</th>\n",
       "      <th></th>\n",
       "      <th></th>\n",
       "    </tr>\n",
       "  </thead>\n",
       "  <tbody>\n",
       "    <tr>\n",
       "      <th>20122013-03-08</th>\n",
       "      <td>0.0</td>\n",
       "      <td></td>\n",
       "    </tr>\n",
       "    <tr>\n",
       "      <th>20122013-07-16</th>\n",
       "      <td>0.0</td>\n",
       "      <td></td>\n",
       "    </tr>\n",
       "    <tr>\n",
       "      <th>20122013-100-03</th>\n",
       "      <td>0.0</td>\n",
       "      <td></td>\n",
       "    </tr>\n",
       "    <tr>\n",
       "      <th>20122013-100-06</th>\n",
       "      <td>0.0</td>\n",
       "      <td></td>\n",
       "    </tr>\n",
       "    <tr>\n",
       "      <th>20122013-17-06</th>\n",
       "      <td>1.0</td>\n",
       "      <td>Pechtold-Pechtold-Pechtold</td>\n",
       "    </tr>\n",
       "  </tbody>\n",
       "</table>\n",
       "</div>"
      ],
      "text/plain": [
       "                 indegree        interruptie_volgorde\n",
       "date                                                 \n",
       "20122013-03-08        0.0                            \n",
       "20122013-07-16        0.0                            \n",
       "20122013-100-03       0.0                            \n",
       "20122013-100-06       0.0                            \n",
       "20122013-17-06        1.0  Pechtold-Pechtold-Pechtold"
      ]
     },
     "execution_count": 5,
     "metadata": {},
     "output_type": "execute_result"
    }
   ],
   "source": [
    "mydf=df[[ 'indegree','interruptie_volgorde' ]].fillna('')\n",
    "mydf.head()"
   ]
  },
  {
   "cell_type": "code",
   "execution_count": 7,
   "metadata": {
    "collapsed": false
   },
   "outputs": [
    {
     "name": "stdout",
     "output_type": "stream",
     "text": [
      "\\begin{tabular}{lrl}\n",
      "\\toprule\n",
      "{} &  indegree & interruptie\\_volgorde \\\\\n",
      "date            &           &                      \\\\\n",
      "\\midrule\n",
      "20122013-03-08  &       0.0 &                      \\\\\n",
      "20122013-07-16  &       0.0 &                      \\\\\n",
      "20122013-100-03 &       0.0 &                      \\\\\n",
      "20122013-100-06 &       0.0 &                      \\\\\n",
      "20122013-17-06  &       1.0 &       Pechtold-1 3-1 \\\\\n",
      "\\bottomrule\n",
      "\\end{tabular}\n",
      "\n"
     ]
    }
   ],
   "source": [
    "mydf.interruptie_volgorde=mydf.interruptie_volgorde.apply(make_nice_string)\n",
    "t= mydf.head().to_latex()\n",
    "\n",
    "print t"
   ]
  },
  {
   "cell_type": "code",
   "execution_count": 7,
   "metadata": {
    "collapsed": false
   },
   "outputs": [],
   "source": [
    "t=mydf.to_latex()"
   ]
  },
  {
   "cell_type": "code",
   "execution_count": 8,
   "metadata": {
    "collapsed": false
   },
   "outputs": [
    {
     "name": "stdout",
     "output_type": "stream",
     "text": [
      "\\begin{tabular}{lrl}\r\n",
      "\\toprule\r\n",
      "{} &  indegree &                               interruptie\\_volgorde \\\\\r\n",
      "date            &           &                                                    \\\\\r\n",
      "\\midrule\r\n",
      "20122013-03-08  &       0.0 &                                                    \\\\\r\n",
      "20122013-07-16  &       0.0 &                                                    \\\\\r\n",
      "20122013-100-03 &       0.0 &                                                    \\\\\r\n",
      "20122013-100-06 &       0.0 &                                                    \\\\\r\n",
      "20122013-17-06  &       1.0 &                                         Pechtold-3 \\\\\r\n"
     ]
    }
   ],
   "source": [
    "with  open('WildersTable.tex', 'w') as f:\n",
    "    f.write(t.encode(\"UTF-8\"))\n",
    "!head WildersTable.tex"
   ]
  },
  {
   "cell_type": "code",
   "execution_count": 9,
   "metadata": {
    "collapsed": false
   },
   "outputs": [
    {
     "name": "stdout",
     "output_type": "stream",
     "text": [
      "Interruptors_van_Wilders.csv WildersPlot.png              evaluation.tex               main.log                     main.synctex.gz              methodology.tex              titlepage.tex\r\n",
      "PandasAndLatex.ipynb         WildersTable.tex             introduction.tex             main.out                     main.tex                     related_work.tex\r\n",
      "README.md                    conclusions.tex              main.aux                     main.pdf                     main.toc                     sargent-lecture_slides.pdf\r\n"
     ]
    }
   ],
   "source": [
    "!ls"
   ]
  },
  {
   "cell_type": "code",
   "execution_count": 10,
   "metadata": {
    "collapsed": true
   },
   "outputs": [],
   "source": [
    "!rm *.log"
   ]
  },
  {
   "cell_type": "code",
   "execution_count": null,
   "metadata": {
    "collapsed": true
   },
   "outputs": [],
   "source": []
  }
 ],
 "metadata": {
  "anaconda-cloud": {},
  "kernelspec": {
   "display_name": "Python [default]",
   "language": "python",
   "name": "python2"
  },
  "language_info": {
   "codemirror_mode": {
    "name": "ipython",
    "version": 2
   },
   "file_extension": ".py",
   "mimetype": "text/x-python",
   "name": "python",
   "nbconvert_exporter": "python",
   "pygments_lexer": "ipython2",
   "version": "2.7.12"
  }
 },
 "nbformat": 4,
 "nbformat_minor": 0
}
