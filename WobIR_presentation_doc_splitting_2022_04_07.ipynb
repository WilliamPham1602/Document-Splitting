{
 "cells": [
  {
   "cell_type": "code",
   "execution_count": 2,
   "id": "68d132fc",
   "metadata": {
    "slideshow": {
     "slide_type": "skip"
    }
   },
   "outputs": [
    {
     "name": "stdout",
     "output_type": "stream",
     "text": [
      "[NbConvertApp] Converting notebook WobIR_presentation_doc_splitting_2022_04_07.ipynb to slides\n",
      "[NbConvertApp] Writing 292431 bytes to WobIR_presentation_doc_splitting_2022_04_07.slides.html\n",
      "[NbConvertApp] Redirecting reveal.js requests to https://cdnjs.cloudflare.com/ajax/libs/reveal.js/3.5.0\n",
      "Serving your slides at http://127.0.0.1:8000/WobIR_presentation_doc_splitting_2022_04_07.slides.html\n",
      "Use Control-C to stop this server\n",
      "WARNING:tornado.access:404 GET /custom.css (127.0.0.1) 1.44ms\n",
      "^C\n",
      "\n",
      "Interrupted\n"
     ]
    }
   ],
   "source": [
    "!jupyter nbconvert WobIR_presentation_doc_splitting_2022_04_07.ipynb --to slides --post serve"
   ]
  },
  {
   "cell_type": "markdown",
   "id": "7c06fd9a",
   "metadata": {
    "slideshow": {
     "slide_type": "slide"
    }
   },
   "source": [
    "# Document splitting part\n",
    "\n",
    "* we now focus on the document splitting part"
   ]
  },
  {
   "cell_type": "markdown",
   "id": "1b7b8ef2",
   "metadata": {
    "slideshow": {
     "slide_type": "slide"
    }
   },
   "source": [
    "# Motivation: wobs @ Follow The Money\n",
    "\n",
    ">How is a WOB document researched or analysed?\n",
    "\n",
    "The output that we receive from governmental bodies is usually completely unprocessable by machines. Think of scanned pdf-files that are not OCR'ed, pages that are flipped, tables that are never consistent, etc. The inconsistency is usually the source of the most problems. Most problems are fixable, but if every WOB output is different every time, we need to solve problems time and time again.\n",
    "\n",
    "Once we preprocessed the WOB documents, we split them. Here lies a major challenge that we are working with at the moment: splitting the documents. Then we link the splitted documents to the inventarisatielijst, with which we can index the collection of WOB documents.\n",
    "\n",
    "Credits to Filipp Perasedillo for collecting this info."
   ]
  },
  {
   "cell_type": "markdown",
   "id": "900523f4",
   "metadata": {
    "slideshow": {
     "slide_type": "slide"
    }
   },
   "source": [
    "# Document splitting 2022\n",
    "\n",
    "## MSc IS data science track thesis project\n",
    "\n",
    "### Task\n",
    "\n",
    "We have a collection of text documents (in PDF format) which have been concatenated into one large PDF file. The task is to split that large file into the original separate documents.\n",
    "\n",
    "Gold standard (i.e. given a large PDF, at which pages start a new document) train data is available. Both the original PDF and the extracted text per page (as a pandas datafile).\n",
    "\n",
    "This can be seen as  a *clustering task*, which we evaluate *externally*, so by comparing it to the truth.\n",
    "\n",
    "As strange as this may sound, the problem is realistic and quite common. A way these strange concatenated documents are generated is by printing out all documents, and then scanning the complete pile in one go on a photocopy/scan machine.  When creating a Google like search system these monster documents are of course very user unfriendly (as the user still has to find her way in that monstrous PDF)."
   ]
  },
  {
   "cell_type": "markdown",
   "id": "7390f1ca",
   "metadata": {
    "slideshow": {
     "slide_type": "slide"
    }
   },
   "source": [
    "### Your thesis\n",
    "\n",
    "You try to create a well performing  document splitting method, experimenting on the provided trainsets. The project is set up as a  Kaggle style competition in which you and other students participate. You share your performance on the trainset and once in a while you submit a system which we will run on comparable secret testsets and publish a leaderboard.\n",
    "\n",
    "You may compare your work to that of other students and try to learn from their tricks, and of course share handy scripts, but the spirit is competitive, and so we expect that each student keeps her secret sauce, well, indeed, secret."
   ]
  },
  {
   "cell_type": "markdown",
   "id": "5f213737",
   "metadata": {
    "slideshow": {
     "slide_type": "slide"
    }
   },
   "source": [
    "###  Data\n",
    "\n",
    "* Gold standard train en test data is avalaible. You canstart at once. \n",
    "    *  We have  15Gb  PDF, about   7K  seperate documents spread over  230 concatenated PDFs, almost  50K pages, with   10M words over a vocabulary of   half a million words.\n",
    "*  Clear evaluation measure *Bcubed precision en recall*, from Amigó E, Gonzalo J, Artiles J et alA comparison of extrinsic clustering evaluation metrics based on formal constraints.   Information Retrieval. 12. 461-486. 10.1007/s10791-008-9066-8.  \n",
    "*  Several strong, non learned baselines are available.\n",
    "* Evaluation, and try out notebooks are available.\n",
    "* There are many types of signals that you can explore as features: the text/words/content, layout, fonts, fontsizes and other attributes, headers, footers, images,....  \n",
    "* All data is in Dutch and available in PDF and pandas dataframes with sample notebooks. "
   ]
  },
  {
   "cell_type": "markdown",
   "id": "9416434b",
   "metadata": {
    "slideshow": {
     "slide_type": "slide"
    }
   },
   "source": [
    "# Document splitting task\n",
    "\n",
    "* Two views:\n",
    "    * _Classification_ of the \"starting page of a document\"\n",
    "        * Gold standard is a binary vector `[1,0,0,1,1,0,1,0,0,0,0]` with each position standing for a page.\n",
    "    * _Clustering_ of the file in the seperate PDFs\n",
    "        * Gold standard is a vector of \"classes document names\" `[A,A,A,B,C,C,D,D,D,D,D]`\n",
    "* Our gold standard: `[3,1,2,5]`\n",
    "* **These are all equivalent and can be easily transformed into each other.**"
   ]
  },
  {
   "cell_type": "markdown",
   "id": "0a2e5322",
   "metadata": {
    "slideshow": {
     "slide_type": "slide"
    }
   },
   "source": [
    "## Evaluation\n",
    "\n",
    "* Precision, Recall, F1 seem appropriate for the classification view\n",
    "    * But pretty \"harsh\": if classifier is one page wrong, it receives 0 points\n",
    "* Bcubed P, R and F1 is a good alternative for clustering evaluation (to a gold standard)\n",
    "* We will also look into *edit distance* like measures\n",
    "    * Levenstein\n",
    "    * Hamming\n",
    "    * ...\n",
    "    \n",
    "### Bcubed    \n",
    "1. On the web you can quickly find definitions of bcubed precision and recall: see eg <https://www.researchgate.net/figure/Example-of-computing-the-BCubed-precision-and-recall-for-one-item_fig10_225548032> for a nice picture.    \n",
    "    * For a testfile, you take the mean over all pages, and for a test set, the mean over all testfiles.\n",
    "2. * Definition in *Amigó E, Gonzalo J, Artiles J et alA comparison of extrinsic clustering evaluation metrics based on formal constraints.   Information Retrieval. 12. 461-486. 10.1007/s10791-008-9066-8.*"
   ]
  },
  {
   "cell_type": "markdown",
   "id": "958c4cab",
   "metadata": {
    "slideshow": {
     "slide_type": "slide"
    }
   },
   "source": [
    "## How to do it?\n",
    "\n",
    "1. Which features do you (want to) use?\n",
    "    * Suggestion: do the task yourself, thinking aloud, and write down what features you consider and seem helpful\n",
    "        * also let someone else do it and record what she does.\n",
    "    * *Form* features:\n",
    "        * fonts, headers, footers, ....\n",
    "    * *Content* features:\n",
    "        * text\n",
    "    * A combination \n",
    "        * How to combine? \n",
    "        * How to determine the relative importance of the specific features?\n",
    "            * At least we have training data ;-)\n",
    "2. Baseline(s)\n",
    "    * A non learned algorithm using population knowledge\n"
   ]
  },
  {
   "cell_type": "markdown",
   "id": "275a7f16",
   "metadata": {
    "slideshow": {
     "slide_type": "slide"
    }
   },
   "source": [
    "## How to do it? 2\n",
    "\n",
    "3. What kind of known technique(s) can I use?\n",
    "    * feautures/feature selection/feature weighting\n",
    "    * ML algorithms\n",
    "4. What is known from the literature?\n",
    "    * What are related kind of problems?\n",
    "        * Image segmentation\n",
    "        * Tokenization\n",
    "        * passage retrieval\n",
    "        * authorship (change) detection\n",
    "        * topical text segmentation"
   ]
  },
  {
   "cell_type": "markdown",
   "id": "7a4bb0ca",
   "metadata": {
    "slideshow": {
     "slide_type": "slide"
    }
   },
   "source": [
    "### Supervision\n",
    "\n",
    "* Team of UvA scientists and PhD students, led by Maarten Marx.\n",
    "    * Ruben van Heusden\n",
    "    * X\n",
    "\n",
    "### Join?\n",
    "\n",
    "Mail <maartenmarx@uva.nl> with a short motivation. Only participate if you really intend to finish your thesis by the end of June. This is a no fail project if you simply invest\n",
    "time for these three months, use your peers and network, and stay aboard. "
   ]
  },
  {
   "cell_type": "markdown",
   "id": "c3b6471e",
   "metadata": {
    "slideshow": {
     "slide_type": "slide"
    }
   },
   "source": [
    "# Practicalities\n",
    "\n",
    "## Finish\n",
    "\n",
    "* Last Friday of June\n",
    "* In 1-2-3 weeks (normally 1) you have your result => **Freedom! :-)**\n",
    "* No defense, we may do a workshop that last Friday.\n",
    "\n",
    "## Communication\n",
    "\n",
    "* Always first  via issues on your private github repo\n",
    "    * Ruben and I only see things if you @mention or assign us.\n",
    "* Call or zoom is always possible but \n",
    "    * only with a clear agenda\n",
    "    * you gave us time to study your material (notebook/latex section/...)"
   ]
  },
  {
   "cell_type": "markdown",
   "id": "efc4f56c",
   "metadata": {
    "slideshow": {
     "slide_type": "slide"
    }
   },
   "source": [
    "## Setup\n",
    "\n",
    "* Each thesis is unique and written by you and you alone, and contains your work.\n",
    "* But\n",
    "\n",
    ">You may compare your work to that of other students and try to learn from their tricks, and of course share handy scripts, but the spirit is competitive, and so we expect that each student keeps her secret sauce, well, indeed, secret.\n",
    "\n",
    "* If you hesitate on what to share, ask me or Ruben.\n",
    "* **This setup is nice and we learn from each other if we have a lot of diversity in approaches.**\n",
    "* Also only then combining them has a good chance of further improving scores. "
   ]
  },
  {
   "cell_type": "markdown",
   "id": "6d746cad",
   "metadata": {
    "slideshow": {
     "slide_type": "slide"
    }
   },
   "source": [
    "## Work share\n",
    "\n",
    "* Normally a staff member has 2-3 thesis students.\n",
    "* I have over 20.....\n",
    "* So \n",
    "    * I expect you take the thesis classes and learn all thesis practicalities there\n",
    "    * Ruben and I help you mostly with *content* \n",
    "    * you help yourself and us by working and communicating smoothly\n",
    "        * **Follow the simple rules in the \"working with Marx\" document**"
   ]
  },
  {
   "cell_type": "markdown",
   "id": "70d17c67",
   "metadata": {
    "slideshow": {
     "slide_type": "slide"
    }
   },
   "source": [
    "## Our filosophy\n",
    "\n",
    "* You are in charge\n",
    "* You may use us for whatever you like\n",
    "    * we may decline ;-)\n",
    "    * you make sure we can work super efficient\n",
    "* you  will  finish on time with   a satisfactory grade  or better\n",
    "* we try to make a joint publication out of this nice project"
   ]
  },
  {
   "cell_type": "markdown",
   "id": "05b03c9b",
   "metadata": {
    "slideshow": {
     "slide_type": "slide"
    }
   },
   "source": [
    "## Questions\n",
    "\n",
    "## Practical issues\n",
    "\n",
    "* Whatsapp/slack group"
   ]
  },
  {
   "cell_type": "markdown",
   "id": "418369ee",
   "metadata": {
    "slideshow": {
     "slide_type": "slide"
    }
   },
   "source": []
  },
  {
   "cell_type": "code",
   "execution_count": null,
   "id": "10d76c3c",
   "metadata": {},
   "outputs": [],
   "source": []
  }
 ],
 "metadata": {
  "celltoolbar": "Slideshow",
  "kernelspec": {
   "display_name": "Python 3",
   "language": "python",
   "name": "python3"
  },
  "language_info": {
   "codemirror_mode": {
    "name": "ipython",
    "version": 3
   },
   "file_extension": ".py",
   "mimetype": "text/x-python",
   "name": "python",
   "nbconvert_exporter": "python",
   "pygments_lexer": "ipython3",
   "version": "3.8.8"
  },
  "toc": {
   "nav_menu": {},
   "number_sections": false,
   "sideBar": true,
   "skip_h1_title": false,
   "title_cell": "Table of Contents",
   "title_sidebar": "Contents",
   "toc_cell": false,
   "toc_position": {},
   "toc_section_display": true,
   "toc_window_display": false
  }
 },
 "nbformat": 4,
 "nbformat_minor": 5
}
