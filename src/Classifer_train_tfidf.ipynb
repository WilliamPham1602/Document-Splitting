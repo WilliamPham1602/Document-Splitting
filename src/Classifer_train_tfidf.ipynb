{
 "cells": [
  {
   "cell_type": "code",
   "execution_count": 1,
   "metadata": {},
   "outputs": [],
   "source": [
    "import os\n",
    "import re\n",
    "import nltk\n",
    "import pandas as pd\n",
    "from bs4 import BeautifulSoup\n",
    "from gensim.models import Doc2Vec\n",
    "\n",
    "from gensim.models.doc2vec import TaggedDocument\n",
    "from sklearn.linear_model import LogisticRegression\n",
    "from sklearn.model_selection import train_test_split\n",
    "import pickle\n",
    "\n",
    "from gensim.test.test_doc2vec import ConcatenatedDoc2Vec\n",
    "from sklearn.feature_extraction.text import TfidfVectorizer\n",
    "from stop_words import get_stop_words\n",
    "\n",
    "from sklearn.metrics import accuracy_score, f1_score\n",
    "\n",
    "import random\n",
    "random.seed(42)"
   ]
  },
  {
   "cell_type": "code",
   "execution_count": 2,
   "metadata": {},
   "outputs": [],
   "source": [
    "## feature length of the vector\n",
    "feature_length = 512\n",
    "\n",
    "## load the trained doc2vec models (distributed memory and distributed bag of word)\n",
    "model_dbow = Doc2Vec.load(\"/Users/williampham/Desktop/UvA-thesis-main/models/pdf_split_d2v_gensim_{}_db.mod\".format(feature_length))\n",
    "model_dmm = Doc2Vec.load(\"/Users/williampham/Desktop/UvA-thesis-main/models/pdf_split_d2v_gensim_{}_dm.mod\".format(feature_length))"
   ]
  },
  {
   "cell_type": "code",
   "execution_count": 3,
   "metadata": {},
   "outputs": [],
   "source": [
    "\n",
    "# Concatenate model\n",
    "model = ConcatenatedDoc2Vec([model_dbow, model_dmm])\n",
    "\n",
    "def vec_for_learning(model, tagged_docs):\n",
    "    sents = tagged_docs.values\n",
    "    targets, regressors = zip(*[(doc.tags[0], model.infer_vector(doc.words)) for doc in sents])\n",
    "    return targets, regressors\n",
    "\n",
    "\n",
    "## clean text \n",
    "def cleanText(text):\n",
    "    text = BeautifulSoup(text, \"html.parser\").text\n",
    "    text = re.sub(r'\\|\\|\\|', r' ', text)\n",
    "    text = re.sub(r'\\\\n', r' ', text)\n",
    "    text = re.sub(r'http\\S+', r'<URL>', text)\n",
    "    text = text.lower()\n",
    "    # text = text.replace('x', '')\n",
    "    return text\n",
    "\n",
    "def print_complaint(df, index):\n",
    "    example = df[df.index == index][[\"labels\", \"text\"]].values[0]\n",
    "    if len(example) > 0:\n",
    "        print(example[1])\n",
    "        print('labels:', example[0])"
   ]
  },
  {
   "cell_type": "code",
   "execution_count": 4,
   "metadata": {},
   "outputs": [
    {
     "name": "stderr",
     "output_type": "stream",
     "text": [
      "/opt/anaconda3/lib/python3.8/site-packages/bs4/__init__.py:417: MarkupResemblesLocatorWarning: \"https://www.amsterdam.nl/ingenieursbureau/\\n\\n7\\nLe\\n\\n\" looks like a URL. Beautiful Soup is not an HTTP client. You should probably use an HTTP client like requests to get the document behind the URL, and feed that document to Beautiful Soup.\n",
      "  warnings.warn(\n"
     ]
    }
   ],
   "source": [
    "## loading the csv files containing filenames and processed text\n",
    "df_0 = pd.read_csv('/Users/williampham/Desktop/UvA-thesis-main/data/0.0.csv')\n",
    "df_1 = pd.read_csv('/Users/williampham/Desktop/UvA-thesis-main/data/1.0.csv')\n",
    "\n",
    "frames = [df_0, df_1]\n",
    "\n",
    "df = pd.concat(frames)\n",
    "df.reset_index()\n",
    "df.head()\n",
    "\n",
    "df.fillna('', inplace=True)\n",
    "df.head()\n",
    "\n",
    "df['text_processed'] = df['text'].apply(cleanText)"
   ]
  },
  {
   "cell_type": "code",
   "execution_count": 5,
   "metadata": {},
   "outputs": [],
   "source": [
    "## using dutch stop words to remove from the processed text (normally stop words do not contribute to the meaning of the text)\n",
    "stop_words = get_stop_words('dutch')\n",
    "\n",
    "## using the Tfidf model to vectorize the training data\n",
    "tfidf = TfidfVectorizer(sublinear_tf=True, min_df=5, norm='l2', encoding='latin-1', ngram_range=(1, 5), stop_words=stop_words)\n",
    "features = tfidf.fit_transform(df['text_processed']).toarray()\n",
    "labels = df['labels']"
   ]
  },
  {
   "cell_type": "code",
   "execution_count": 6,
   "metadata": {},
   "outputs": [
    {
     "name": "stderr",
     "output_type": "stream",
     "text": [
      "/opt/anaconda3/lib/python3.8/site-packages/sklearn/linear_model/_logistic.py:763: ConvergenceWarning: lbfgs failed to converge (status=1):\n",
      "STOP: TOTAL NO. of ITERATIONS REACHED LIMIT.\n",
      "\n",
      "Increase the number of iterations (max_iter) or scale the data as shown in:\n",
      "    https://scikit-learn.org/stable/modules/preprocessing.html\n",
      "Please also refer to the documentation for alternative solver options:\n",
      "    https://scikit-learn.org/stable/modules/linear_model.html#logistic-regression\n",
      "  n_iter_i = _check_optimize_result(\n"
     ]
    }
   ],
   "source": [
    "## split the dataset to train set and test set\n",
    "X_train, X_test, y_train, y_test = train_test_split(features, labels, test_size=0.3, random_state=42)\n",
    "\n",
    "## calculate the weight for the imbalanced dataset\n",
    "a = 1.0\n",
    "b = len(y_train[y_train==0.0]) / len(y_train[y_train==1.0])\n",
    "weights = {0.0:a, 1.0:b}\n",
    "\n",
    "## define the logistic regression model\n",
    "logreg = LogisticRegression(n_jobs=1, C=1e5, multi_class='ovr', class_weight='balanced')\n",
    "## train logistic regression model\n",
    "logreg.fit(X_train, y_train)\n",
    "## test the logistic regression model\n",
    "y_pred = logreg.predict(X_test)\n",
    "\n",
    "os.makedirs('models/logreg', exist_ok=True)\n",
    "filename = '/Users/williampham/Desktop/UvA-thesis-main/src/models/logreg_tfidf_model_{}__dbow_dm_concate.sav'.format(feature_length)\n",
    "pickle.dump(logreg, open(filename, 'wb'))"
   ]
  },
  {
   "cell_type": "code",
   "execution_count": 7,
   "metadata": {},
   "outputs": [
    {
     "name": "stdout",
     "output_type": "stream",
     "text": [
      "Testing accuracy 0.8797129513612029\n",
      "Testing F1 score: 0.8692540716136863\n"
     ]
    }
   ],
   "source": [
    "\n",
    "print('Testing accuracy %s' % accuracy_score(y_test, y_pred))\n",
    "print('Testing F1 score: {}'.format(f1_score(y_test, y_pred, average='weighted')))\n"
   ]
  }
 ],
 "metadata": {
  "interpreter": {
   "hash": "40d3a090f54c6569ab1632332b64b2c03c39dcf918b08424e98f38b5ae0af88f"
  },
  "kernelspec": {
   "display_name": "Python 3.8.8 ('base')",
   "language": "python",
   "name": "python3"
  },
  "language_info": {
   "codemirror_mode": {
    "name": "ipython",
    "version": 3
   },
   "file_extension": ".py",
   "mimetype": "text/x-python",
   "name": "python",
   "nbconvert_exporter": "python",
   "pygments_lexer": "ipython3",
   "version": "3.8.8"
  },
  "orig_nbformat": 4
 },
 "nbformat": 4,
 "nbformat_minor": 2
}
