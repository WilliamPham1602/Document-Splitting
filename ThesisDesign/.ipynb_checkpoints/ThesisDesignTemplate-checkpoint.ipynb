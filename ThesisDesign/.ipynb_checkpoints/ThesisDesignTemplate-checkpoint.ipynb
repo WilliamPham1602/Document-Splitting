{
 "cells": [
  {
   "cell_type": "markdown",
   "metadata": {},
   "source": [
    "# Thesis design template\n",
    "\n",
    "\n",
    "### mail sent to students 2018-01-16\n",
    "\n",
    "Dear Students,\n",
    "\n",
    "Tomorrow we meet at 17:00 in C0110 to discuss your Thesis Design. \n",
    "You can see what we will do at <http://nbviewer.jupyter.org/format/slides/url/maartenmarx.nl/teaching/MscDataScience_Thesis/Slides/ThesisDesignPeriod.ipynb#/>\n",
    "If you are all fine with that, there is no need for you to come to this meeting.\n",
    "\n",
    "If you have questions, need help with finding a supervisor, or whatever please do come.\n",
    "\n",
    "In any case, please help me manage you all by filling out the forms:\n",
    "\n",
    "1. If you haven't found a supervisor yet, fill in <https://goo.gl/forms/2QNydjIsn7NBdZMV2>\n",
    "    * We will help you find one.\n",
    "2. If you are all set, fill in <https://goo.gl/forms/DgH3XzA7E7AFVuOS2>.\n",
    "\n",
    "Good luck with your thesis design!\n",
    "Maarten Marx (thesis coordinator)\n",
    "\n",
    "### mail sent to students 2017-02-11\n",
    "\n",
    ">From: Maarten Marx - M.J.Marx@uva.nl <do-not-reply@ic.uva.nl>\n",
    "Sent: 10 February 2017 17:22\n",
    "Subject: Master Thesis IS (DS): Master thesis data science: thesis design\n",
    " \n",
    ">Dear students,\n",
    "All of you are already thinking about your thesis. Most have a research problem,  and supervisors too. Great!\n",
    "Now it is time to complete your thesis design. This is a small document based on which your academic supervisor will decide whether or not you can start your thesis project.\n",
    "To make it easy for you, we provide a template which is attached here. A Latex template is also provided.  \n",
    "Procedure\n",
    "You submit your thesis design on Blackboard  (in the course Master Thesis DS) and sent it to your academic supervisor before  March 6 2017. Please only use PDF format.\n",
    "Before March 13 you will hear if you can succeed with your thesis. If not, you may two weeks to repair your design as to make it satisfactory. \n",
    "Good luck with your thesis design!\n",
    "Maarten Marx (thesis coordinator)\n"
   ]
  },
  {
   "cell_type": "code",
   "execution_count": null,
   "metadata": {
    "collapsed": true
   },
   "outputs": [],
   "source": []
  }
 ],
 "metadata": {
  "anaconda-cloud": {},
  "kernelspec": {
   "display_name": "Python [default]",
   "language": "python",
   "name": "python2"
  },
  "language_info": {
   "codemirror_mode": {
    "name": "ipython",
    "version": 2
   },
   "file_extension": ".py",
   "mimetype": "text/x-python",
   "name": "python",
   "nbconvert_exporter": "python",
   "pygments_lexer": "ipython2",
   "version": "2.7.12"
  }
 },
 "nbformat": 4,
 "nbformat_minor": 0
}
